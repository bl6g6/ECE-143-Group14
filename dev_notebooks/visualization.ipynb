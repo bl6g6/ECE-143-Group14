{
 "cells": [
  {
   "cell_type": "code",
   "execution_count": null,
   "metadata": {},
   "outputs": [],
   "source": [
    "import math \n",
    "import numpy as np\n",
    "import pandas as pd\n",
    "import matplotlib.pyplot as plt\n",
    "import seaborn as sns\n",
    "sns.set()"
   ]
  },
  {
   "cell_type": "code",
   "execution_count": null,
   "metadata": {},
   "outputs": [],
   "source": [
    "dataset = pd.read_csv('./cleaned_df_with_manufact.csv', keep_default_na=False) #Avoid 'null' in CSV to be parsed as NaN \n",
    "dataset_na = pd.read_csv('./cleaned_df_with_manufact.csv')\n",
    "dataset.head(3)"
   ]
  },
  {
   "cell_type": "markdown",
   "metadata": {},
   "source": [
    "## Individual Variable Description   "
   ]
  },
  {
   "cell_type": "markdown",
   "metadata": {},
   "source": [
    "## Price, Year and Mileage"
   ]
  },
  {
   "cell_type": "code",
   "execution_count": null,
   "metadata": {},
   "outputs": [],
   "source": [
    "fig, ax = plt.subplots(1,3,figsize=(12,4), constrained_layout=True)\n",
    "ax[0].hist(dataset['price'], 25)\n",
    "ax[0].axvline(x=dataset['price'].mean(),color='black',label='mean')\n",
    "ax[0].axvline(x=dataset['price'].median(),color='r',label='median')\n",
    "ax[0].set_title('Histogram of Price'), ax[0].set_xlabel('Price'), ax[0].set_ylabel('Count')\n",
    "ax[0].legend()\n",
    "\n",
    "ax[1].hist(dataset['year'], len(dataset['year'].value_counts()), align='right')\n",
    "ax[1].set_title('Histogram of Vehicle Year'), ax[1].set_xlabel('Year')\n",
    "ax[1].arrow(2009.2,5900,0,-2500,head_width=0.5,head_length=150,color='gray')\n",
    "ax[1].axvline(x=dataset['year'].mean(),color='black',label='mean')\n",
    "ax[1].axvline(x=dataset['year'].median(),color='r',label='median')\n",
    "ax[1].text(2017,8300,'2017',horizontalalignment='center')\n",
    "ax[1].text(2008.5,6000,'2009',horizontalalignment='center')\n",
    "ax[1].legend()\n",
    "\n",
    "ax[2].hist(dataset['odometer'], 50, align='right')\n",
    "ax[2].set_title('Histogram of Mileage'), ax[2].set_xlabel('Mile')\n",
    "ax[2].axvline(x=dataset['odometer'].mean(),color='black',label='mean')\n",
    "ax[2].axvline(x=dataset['odometer'].median(),color='r',label='median')\n",
    "ax[2].legend()\n",
    "\n",
    "fig.savefig('./graphs/histograms.png')\n",
    "fig.show()"
   ]
  },
  {
   "cell_type": "markdown",
   "metadata": {},
   "source": [
    "## Make"
   ]
  },
  {
   "cell_type": "code",
   "execution_count": null,
   "metadata": {},
   "outputs": [],
   "source": [
    "fig, ax = plt.subplots(figsize=(8,6))\n",
    "ax.barh(dataset['manufacturer'].value_counts().iloc[:10].index, dataset['type'].value_counts().iloc[:10].values)\n",
    "ax.set_title('Top 10 Popular Make'), ax.set_xlabel('Count'), ax.invert_yaxis()\n",
    "fig.show()"
   ]
  },
  {
   "cell_type": "markdown",
   "metadata": {},
   "source": [
    "## Model"
   ]
  },
  {
   "cell_type": "code",
   "execution_count": null,
   "metadata": {},
   "outputs": [],
   "source": [
    "fig, ax = plt.subplots(figsize=(8,6))\n",
    "ax.barh(dataset['model'].value_counts().iloc[:10].index, dataset['model'].value_counts().iloc[:10].values)\n",
    "ax.set_title('Top 10 Popular Model'), ax.set_xlabel('Count'), ax.invert_yaxis()\n",
    "fig.show()"
   ]
  },
  {
   "cell_type": "markdown",
   "metadata": {},
   "source": [
    "## Condition"
   ]
  },
  {
   "cell_type": "code",
   "execution_count": null,
   "metadata": {},
   "outputs": [],
   "source": [
    "fig, ax = plt.subplots(figsize=(8,6))\n",
    "ax.barh(dataset['condition'].value_counts().index, dataset['condition'].value_counts().values)\n",
    "ax.set_title('Vehicle Condition'), ax.set_xlabel('Count'), ax.invert_yaxis()\n",
    "fig.show()"
   ]
  },
  {
   "cell_type": "markdown",
   "metadata": {},
   "source": [
    "Clearly, a large amount (25416) of vehicle condition are not reported in this dataset."
   ]
  },
  {
   "cell_type": "markdown",
   "metadata": {},
   "source": [
    "## Engine Cylinder Count"
   ]
  },
  {
   "cell_type": "code",
   "execution_count": null,
   "metadata": {},
   "outputs": [],
   "source": [
    "fig, ax = plt.subplots(figsize=(8,6))\n",
    "ax.barh(dataset['cylinders'].value_counts().index, dataset['cylinders'].value_counts().values)\n",
    "ax.set_title('Engine Cylinder Count'), ax.set_xlabel('Count'), ax.invert_yaxis()\n",
    "fig.show()"
   ]
  },
  {
   "cell_type": "markdown",
   "metadata": {},
   "source": [
    "## Fuel Type"
   ]
  },
  {
   "cell_type": "code",
   "execution_count": null,
   "metadata": {},
   "outputs": [],
   "source": [
    "fig, ax = plt.subplots(figsize=(8,6))\n",
    "ax.bar(dataset['fuel'].value_counts().index, dataset['fuel'].value_counts().values)\n",
    "ax.set_title('Fuel Type'), ax.set_ylabel('Count')\n",
    "fig.show()"
   ]
  },
  {
   "cell_type": "markdown",
   "metadata": {},
   "source": [
    "## Transmission"
   ]
  },
  {
   "cell_type": "code",
   "execution_count": null,
   "metadata": {},
   "outputs": [],
   "source": [
    "fig, ax = plt.subplots(figsize=(8,6))\n",
    "ax.bar(dataset['transmission'].value_counts().index, dataset['transmission'].value_counts().values)\n",
    "ax.set_title('Transmission Type'), ax.set_ylabel('Count')\n",
    "fig.show()"
   ]
  },
  {
   "cell_type": "markdown",
   "metadata": {},
   "source": [
    "## Drive"
   ]
  },
  {
   "cell_type": "code",
   "execution_count": null,
   "metadata": {},
   "outputs": [],
   "source": [
    "fig, ax = plt.subplots(figsize=(8,6))\n",
    "ax.bar(dataset['drive'].value_counts().index, dataset['drive'].value_counts().values)\n",
    "ax.set_title('Drive Type'), ax.set_ylabel('Count')\n",
    "fig.show()"
   ]
  },
  {
   "cell_type": "markdown",
   "metadata": {},
   "source": [
    "## Vehicle Type"
   ]
  },
  {
   "cell_type": "code",
   "execution_count": null,
   "metadata": {},
   "outputs": [],
   "source": [
    "fig, ax = plt.subplots(figsize=(8,6))\n",
    "ax.barh(dataset['type'].value_counts().index, dataset['type'].value_counts().values)\n",
    "ax.set_title('Vehicle Type'), ax.set_xlabel('Count'), ax.invert_yaxis()\n",
    "fig.show()"
   ]
  },
  {
   "cell_type": "markdown",
   "metadata": {},
   "source": [
    "## Paint Color"
   ]
  },
  {
   "cell_type": "code",
   "execution_count": null,
   "metadata": {},
   "outputs": [],
   "source": [
    "fig, ax = plt.subplots(figsize=(8,6))\n",
    "ax.barh(dataset['paint_color'].value_counts().index, dataset['paint_color'].value_counts().values)\n",
    "ax.set_title('Paint Color'), ax.set_xlabel('Count'), ax.invert_yaxis()\n",
    "fig.show()"
   ]
  },
  {
   "cell_type": "markdown",
   "metadata": {},
   "source": [
    "## State"
   ]
  },
  {
   "cell_type": "code",
   "execution_count": null,
   "metadata": {},
   "outputs": [],
   "source": [
    "fig, ax = plt.subplots(figsize=(8,8))\n",
    "ax.barh(dataset['state'].value_counts().index, dataset['state'].value_counts().values)\n",
    "ax.set_title('State'), ax.set_ylabel('Count'), ax.invert_yaxis()\n",
    "fig.tight_layout()\n",
    "fig.show()"
   ]
  },
  {
   "cell_type": "markdown",
   "metadata": {},
   "source": [
    "# Multivariate Analysis"
   ]
  },
  {
   "cell_type": "code",
   "execution_count": null,
   "metadata": {},
   "outputs": [],
   "source": [
    "sns.pairplot(pd.concat([dataset.price,dataset.odometer,dataset.year], axis=1),              corner=True, plot_kws=dict(marker=\"+\", linewidth=1))\n",
    "plt.show() "
   ]
  },
  {
   "cell_type": "code",
   "execution_count": null,
   "metadata": {},
   "outputs": [],
   "source": [
    "with sns.axes_style('white'):\n",
    "    p_price = sns.jointplot('price', 'odometer', dataset, kind='hex')\n",
    "plt.savefig('./graphs/price_vs_odometer.png')"
   ]
  },
  {
   "cell_type": "code",
   "execution_count": null,
   "metadata": {},
   "outputs": [],
   "source": [
    "with sns.axes_style('white'):\n",
    "    p_year = sns.jointplot('price', 'year', dataset, kind='hex')\n",
    "    plt.savefig('./graphs/price_vs_year.png')"
   ]
  },
  {
   "cell_type": "markdown",
   "metadata": {},
   "source": [
    "## Price and Odometer vs. Condition"
   ]
  },
  {
   "cell_type": "code",
   "execution_count": null,
   "metadata": {},
   "outputs": [],
   "source": [
    "sns.catplot(x='price',y='condition',data=dataset_na[['price','condition']],kind='boxen')\n",
    "plt.savefig('./graphs/price_vs_condition.png')\n",
    "plt.show()"
   ]
  },
  {
   "cell_type": "markdown",
   "metadata": {},
   "source": [
    "## Price vs. Vehicle Type"
   ]
  },
  {
   "cell_type": "code",
   "execution_count": null,
   "metadata": {},
   "outputs": [],
   "source": [
    "dataset['type'].value_counts().iloc[:5]     # Top 5 types of vehicle"
   ]
  },
  {
   "cell_type": "code",
   "execution_count": null,
   "metadata": {},
   "outputs": [],
   "source": [
    "sns.catplot(x='price',y='type',data=dataset[['price','type']].loc[dataset['type'].isin(dataset['type'].value_counts().iloc[:5].index.tolist())],kind='boxen')\n",
    "plt.savefig('./graphs/price_vs_type.png')\n",
    "plt.show()"
   ]
  },
  {
   "cell_type": "markdown",
   "metadata": {},
   "source": [
    "## Price vs. Transmission, Drive, Cylinders and Fuel Type"
   ]
  },
  {
   "cell_type": "code",
   "execution_count": null,
   "metadata": {},
   "outputs": [],
   "source": [
    "sns.catplot(x='price',y='fuel',col='drive',\n",
    "            data=dataset[['price','drive','fuel']],kind='boxen')\n",
    "plt.savefig('./graphs/price_vs_fuel_drive.png')\n",
    "plt.show()"
   ]
  },
  {
   "cell_type": "markdown",
   "metadata": {},
   "source": [
    "## Price vs. Paint Color"
   ]
  },
  {
   "cell_type": "code",
   "execution_count": null,
   "metadata": {},
   "outputs": [],
   "source": [
    "dataset['paint_color'].value_counts() "
   ]
  },
  {
   "cell_type": "code",
   "execution_count": null,
   "metadata": {},
   "outputs": [],
   "source": [
    "sns.catplot(x='price',y='paint_color',\\\n",
    "        data=dataset[['price','paint_color']].loc[dataset['paint_color'].isin(['white','black','silver','purple','green'])],\\\n",
    "        kind='boxen',\\\n",
    "        palette=sns.color_palette(['white','silver','m','k','g']))\n",
    "plt.savefig('./graphs/price_vs_color.png')\n",
    "plt.show()"
   ]
  }
 ],
 "metadata": {
  "kernelspec": {
   "display_name": "Python 3",
   "language": "python",
   "name": "python3"
  },
  "language_info": {
   "codemirror_mode": {
    "name": "ipython",
    "version": 3
   },
   "file_extension": ".py",
   "mimetype": "text/x-python",
   "name": "python",
   "nbconvert_exporter": "python",
   "pygments_lexer": "ipython3",
   "version": "3.8.5"
  }
 },
 "nbformat": 4,
 "nbformat_minor": 2
}
