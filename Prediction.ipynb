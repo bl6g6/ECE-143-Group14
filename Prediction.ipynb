{
 "cells": [
  {
   "cell_type": "markdown",
   "metadata": {},
   "source": [
    "## TODO\n",
    "1. fill \"null\" in condition based on the manufacturing year\n",
    "The easier way is to discard the data with null values.\n",
    "2. How should we handle states?\n",
    "Hard to do this part. We should remove states.\n",
    "3. What metrics do we want to calculate model performance? (r2 score, accuracy)\n",
    "I used r2 score, accuracy and mse to do the evaluation."
   ]
  },
  {
   "cell_type": "code",
   "execution_count": 1,
   "metadata": {},
   "outputs": [],
   "source": [
    "import numpy as np\n",
    "import pandas as pd\n",
    "\n",
    "from sklearn.preprocessing import LabelEncoder\n",
    "from sklearn.model_selection import train_test_split\n",
    "from sklearn.metrics import mean_squared_error\n",
    "from sklearn.linear_model import LinearRegression, SGDRegressor, RidgeCV, SGDRegressor\n",
    "from sklearn.ensemble import RandomForestClassifier, ExtraTreesRegressor, BaggingRegressor, AdaBoostRegressor\n",
    "from sklearn.tree import DecisionTreeRegressor\n",
    "from sklearn.neural_network import MLPRegressor\n",
    "from sklearn.metrics import r2_score\n",
    "\n",
    "import matplotlib.pyplot as plt\n",
    "import matplotlib as mpl\n",
    "import seaborn as sns\n",
    "\n",
    "import geopandas\n",
    "from shapely.geometry import Point, Polygon\n",
    "\n",
    "%matplotlib inline"
   ]
  },
  {
   "cell_type": "code",
   "execution_count": 2,
   "metadata": {},
   "outputs": [],
   "source": [
    "df = pd.read_csv('cleaned_df_with_manufact.csv', keep_default_na=False)"
   ]
  },
  {
   "cell_type": "code",
   "execution_count": 3,
   "metadata": {},
   "outputs": [
    {
     "data": {
      "text/html": [
       "<div>\n",
       "<style scoped>\n",
       "    .dataframe tbody tr th:only-of-type {\n",
       "        vertical-align: middle;\n",
       "    }\n",
       "\n",
       "    .dataframe tbody tr th {\n",
       "        vertical-align: top;\n",
       "    }\n",
       "\n",
       "    .dataframe thead th {\n",
       "        text-align: right;\n",
       "    }\n",
       "</style>\n",
       "<table border=\"1\" class=\"dataframe\">\n",
       "  <thead>\n",
       "    <tr style=\"text-align: right;\">\n",
       "      <th></th>\n",
       "      <th>price</th>\n",
       "      <th>year</th>\n",
       "      <th>manufacturer</th>\n",
       "      <th>model</th>\n",
       "      <th>condition</th>\n",
       "      <th>cylinders</th>\n",
       "      <th>fuel</th>\n",
       "      <th>odometer</th>\n",
       "      <th>transmission</th>\n",
       "      <th>drive</th>\n",
       "      <th>type</th>\n",
       "      <th>paint_color</th>\n",
       "      <th>state</th>\n",
       "    </tr>\n",
       "  </thead>\n",
       "  <tbody>\n",
       "    <tr>\n",
       "      <th>0</th>\n",
       "      <td>13995</td>\n",
       "      <td>2012.0</td>\n",
       "      <td>ford</td>\n",
       "      <td>f-150</td>\n",
       "      <td>good</td>\n",
       "      <td>6 cylinders</td>\n",
       "      <td>gas</td>\n",
       "      <td>188406.0</td>\n",
       "      <td>automatic</td>\n",
       "      <td>4wd</td>\n",
       "      <td>truck</td>\n",
       "      <td>grey</td>\n",
       "      <td>mn</td>\n",
       "    </tr>\n",
       "    <tr>\n",
       "      <th>1</th>\n",
       "      <td>7995</td>\n",
       "      <td>2010.0</td>\n",
       "      <td>chevrolet</td>\n",
       "      <td>equinox</td>\n",
       "      <td>good</td>\n",
       "      <td>4 cylinders</td>\n",
       "      <td>gas</td>\n",
       "      <td>108124.0</td>\n",
       "      <td>automatic</td>\n",
       "      <td>4wd</td>\n",
       "      <td>SUV</td>\n",
       "      <td>grey</td>\n",
       "      <td>mn</td>\n",
       "    </tr>\n",
       "    <tr>\n",
       "      <th>2</th>\n",
       "      <td>8995</td>\n",
       "      <td>2011.0</td>\n",
       "      <td>chevrolet</td>\n",
       "      <td>traverse</td>\n",
       "      <td>good</td>\n",
       "      <td>6 cylinders</td>\n",
       "      <td>gas</td>\n",
       "      <td>178054.0</td>\n",
       "      <td>automatic</td>\n",
       "      <td>4wd</td>\n",
       "      <td>SUV</td>\n",
       "      <td>white</td>\n",
       "      <td>mn</td>\n",
       "    </tr>\n",
       "    <tr>\n",
       "      <th>3</th>\n",
       "      <td>10995</td>\n",
       "      <td>2014.0</td>\n",
       "      <td>ford</td>\n",
       "      <td>explorer</td>\n",
       "      <td>good</td>\n",
       "      <td>6 cylinders</td>\n",
       "      <td>gas</td>\n",
       "      <td>170259.0</td>\n",
       "      <td>automatic</td>\n",
       "      <td>4wd</td>\n",
       "      <td>SUV</td>\n",
       "      <td>white</td>\n",
       "      <td>mn</td>\n",
       "    </tr>\n",
       "    <tr>\n",
       "      <th>4</th>\n",
       "      <td>12995</td>\n",
       "      <td>2004.0</td>\n",
       "      <td>ram</td>\n",
       "      <td>2500</td>\n",
       "      <td>good</td>\n",
       "      <td>6 cylinders</td>\n",
       "      <td>diesel</td>\n",
       "      <td>309621.0</td>\n",
       "      <td>automatic</td>\n",
       "      <td>4wd</td>\n",
       "      <td>truck</td>\n",
       "      <td>custom</td>\n",
       "      <td>mn</td>\n",
       "    </tr>\n",
       "  </tbody>\n",
       "</table>\n",
       "</div>"
      ],
      "text/plain": [
       "   price    year manufacturer     model condition    cylinders    fuel  \\\n",
       "0  13995  2012.0         ford     f-150      good  6 cylinders     gas   \n",
       "1   7995  2010.0    chevrolet   equinox      good  4 cylinders     gas   \n",
       "2   8995  2011.0    chevrolet  traverse      good  6 cylinders     gas   \n",
       "3  10995  2014.0         ford  explorer      good  6 cylinders     gas   \n",
       "4  12995  2004.0          ram      2500      good  6 cylinders  diesel   \n",
       "\n",
       "   odometer transmission drive   type paint_color state  \n",
       "0  188406.0    automatic   4wd  truck        grey    mn  \n",
       "1  108124.0    automatic   4wd    SUV        grey    mn  \n",
       "2  178054.0    automatic   4wd    SUV       white    mn  \n",
       "3  170259.0    automatic   4wd    SUV       white    mn  \n",
       "4  309621.0    automatic   4wd  truck      custom    mn  "
      ]
     },
     "execution_count": 3,
     "metadata": {},
     "output_type": "execute_result"
    }
   ],
   "source": [
    "df.head()"
   ]
  },
  {
   "cell_type": "code",
   "execution_count": 4,
   "metadata": {},
   "outputs": [
    {
     "name": "stdout",
     "output_type": "stream",
     "text": [
      "price \t 0 \t 7850\n",
      "year \t 0 \t 41\n",
      "manufacturer \t 900 \t 37\n",
      "model \t 0 \t 1520\n",
      "condition \t 25416 \t 7\n",
      "cylinders \t 13387 \t 9\n",
      "fuel \t 0 \t 5\n",
      "odometer \t 0 \t 45314\n",
      "transmission \t 0 \t 3\n",
      "drive \t 0 \t 3\n",
      "type \t 0 \t 13\n",
      "paint_color \t 0 \t 12\n",
      "state \t 0 \t 51\n",
      "total samples:  83003\n"
     ]
    }
   ],
   "source": [
    "for col in df.columns:\n",
    "    print(col, \"\\t\", len(df[df[col]==\"null\"]), \"\\t\", len(df[col].unique()))\n",
    "\n",
    "print(\"total samples: \", len(df))"
   ]
  },
  {
   "cell_type": "markdown",
   "metadata": {},
   "source": [
    "# Convert categorical features\n",
    "------"
   ]
  },
  {
   "cell_type": "code",
   "execution_count": 5,
   "metadata": {},
   "outputs": [],
   "source": [
    "# add all the columns you want to dummy/one hot\n",
    "onehot_these_columns = []\n",
    "delete_these_columns = []"
   ]
  },
  {
   "cell_type": "markdown",
   "metadata": {},
   "source": [
    "## Model"
   ]
  },
  {
   "cell_type": "code",
   "execution_count": 6,
   "metadata": {},
   "outputs": [],
   "source": [
    "len(df['model'].unique())\n",
    "delete_these_columns.append('model')"
   ]
  },
  {
   "cell_type": "markdown",
   "metadata": {},
   "source": [
    "## Manufacturer"
   ]
  },
  {
   "cell_type": "code",
   "execution_count": 7,
   "metadata": {},
   "outputs": [
    {
     "data": {
      "text/plain": [
       "array(['ford', 'chevrolet', 'ram', 'buick', 'nissan', 'hyundai', 'dodge',\n",
       "       'subaru', 'toyota', 'lexus', 'volvo', 'chrysler', 'jeep', 'acura',\n",
       "       'gmc', 'kia', 'honda', 'volkswagen', 'bmw', 'null', 'pontiac',\n",
       "       'cadillac', 'mazda', 'lincoln', 'saturn', 'fiat', 'audi',\n",
       "       'mercury', 'mercedes-benz', 'mini', 'mitsubishi', 'jaguar',\n",
       "       'infiniti', 'rover', 'tesla', 'land rover', 'alfa-romeo'],\n",
       "      dtype=object)"
      ]
     },
     "execution_count": 7,
     "metadata": {},
     "output_type": "execute_result"
    }
   ],
   "source": [
    "df['manufacturer'].unique()"
   ]
  },
  {
   "cell_type": "code",
   "execution_count": 8,
   "metadata": {},
   "outputs": [],
   "source": [
    "\n",
    "buckets = False\n",
    "\n",
    "if buckets:\n",
    "    # Using buckets\n",
    "    price_buckets = {}\n",
    "    for k,v in dict(df.groupby(\"manufacturer\")['price'].mean()).items():\n",
    "        price_buckets[k] = int(v/5000)\n",
    "    df['manufacturer'].replace(price_buckets, inplace=True)\n",
    "    print(\"unique values after bucketing\", df['manufacturer'].unique())\n",
    "else:\n",
    "    # Using onehot encoding\n",
    "    onehot_these_columns.append(\"manufacturer\")"
   ]
  },
  {
   "cell_type": "code",
   "execution_count": null,
   "metadata": {},
   "outputs": [],
   "source": []
  },
  {
   "cell_type": "code",
   "execution_count": null,
   "metadata": {},
   "outputs": [],
   "source": []
  },
  {
   "cell_type": "markdown",
   "metadata": {},
   "source": [
    "## Condition"
   ]
  },
  {
   "cell_type": "code",
   "execution_count": 9,
   "metadata": {},
   "outputs": [
    {
     "data": {
      "text/plain": [
       "array(['good', 'fair', 'excellent', 'like new', 'null', 'new', 'salvage'],\n",
       "      dtype=object)"
      ]
     },
     "execution_count": 9,
     "metadata": {},
     "output_type": "execute_result"
    }
   ],
   "source": [
    "df['condition'].unique()"
   ]
  },
  {
   "cell_type": "code",
   "execution_count": 10,
   "metadata": {},
   "outputs": [
    {
     "data": {
      "text/plain": [
       "condition\n",
       "excellent    12296.954851\n",
       "fair          3464.130298\n",
       "good         11390.026245\n",
       "like new     15323.040108\n",
       "new          16837.903030\n",
       "null         17161.635623\n",
       "salvage       5569.265306\n",
       "Name: price, dtype: float64"
      ]
     },
     "execution_count": 10,
     "metadata": {},
     "output_type": "execute_result"
    }
   ],
   "source": [
    "df.groupby(\"condition\")['price'].mean()"
   ]
  },
  {
   "cell_type": "code",
   "execution_count": 11,
   "metadata": {},
   "outputs": [
    {
     "data": {
      "text/plain": [
       "array([[<AxesSubplot:title={'center':'price'}>,\n",
       "        <AxesSubplot:title={'center':'year'}>],\n",
       "       [<AxesSubplot:title={'center':'odometer'}>, <AxesSubplot:>]],\n",
       "      dtype=object)"
      ]
     },
     "execution_count": 11,
     "metadata": {},
     "output_type": "execute_result"
    },
    {
     "data": {
      "image/png": "[encoded data removed]",
      "text/plain": [
       "<Figure size 432x288 with 4 Axes>"
      ]
     },
     "metadata": {
      "needs_background": "light"
     },
     "output_type": "display_data"
    }
   ],
   "source": [
    "df[df['condition']==\"null\"].hist(bins=10)"
   ]
  },
  {
   "cell_type": "code",
   "execution_count": 12,
   "metadata": {},
   "outputs": [],
   "source": [
    "onehot_these_columns.append(\"condition\")"
   ]
  },
  {
   "cell_type": "markdown",
   "metadata": {},
   "source": [
    "## Cylinders"
   ]
  },
  {
   "cell_type": "code",
   "execution_count": 13,
   "metadata": {},
   "outputs": [
    {
     "data": {
      "text/plain": [
       "cylinders\n",
       "10 cylinders    14549.672986\n",
       "12 cylinders    10851.625000\n",
       "3 cylinders     11303.132812\n",
       "4 cylinders     10910.030387\n",
       "5 cylinders      6950.400327\n",
       "6 cylinders     13270.627364\n",
       "8 cylinders     16473.431071\n",
       "null            16542.824457\n",
       "other           13574.572650\n",
       "Name: price, dtype: float64"
      ]
     },
     "execution_count": 13,
     "metadata": {},
     "output_type": "execute_result"
    }
   ],
   "source": [
    "df.groupby(\"cylinders\")['price'].mean()"
   ]
  },
  {
   "cell_type": "markdown",
   "metadata": {},
   "source": [
    "We have seen previously that most of the cylinders are either 4,6,8 or \"null\". Looking only at these categories, it seems that the trend is more the cylinders, higher the cost. So it might make sense to convert these categories to numbers instead of one-hot. There are very few cars with ['other',10,12,3,5] cyliners. We can convert the numbered categories to corresponding numbers and treat others as null.\n",
    "\n",
    "\n",
    "\n",
    "**Other** *assign it the mean of all values* <br>\n",
    "**null** *assign it the mean of all values*"
   ]
  },
  {
   "cell_type": "code",
   "execution_count": 14,
   "metadata": {},
   "outputs": [
    {
     "data": {
      "text/plain": [
       "<AxesSubplot:>"
      ]
     },
     "execution_count": 14,
     "metadata": {},
     "output_type": "execute_result"
    },
    {
     "data": {
      "image/png": "[encoded data removed]",
      "text/plain": [
       "<Figure size 432x288 with 1 Axes>"
      ]
     },
     "metadata": {
      "needs_background": "light"
     },
     "output_type": "display_data"
    }
   ],
   "source": [
    "df[df['cylinders']==\"other\"]['price'].hist(bins=10)"
   ]
  },
  {
   "cell_type": "code",
   "execution_count": 15,
   "metadata": {},
   "outputs": [],
   "source": [
    "mean_cylinder = (4+6+8)/3\n",
    "\n",
    "replace_cylinders = {'3 cylinders':3, '4 cylinders':4, '5 cylinders':5, \n",
    "           '6 cylinders':6, '8 cylinders':8, '10 cylinders':10, \n",
    "           '12 cylinders':12, 'null':mean_cylinder, 'other':mean_cylinder}\n",
    "\n",
    "df['cylinders'].replace(replace_cylinders, inplace=True)"
   ]
  },
  {
   "cell_type": "code",
   "execution_count": 16,
   "metadata": {},
   "outputs": [
    {
     "data": {
      "text/plain": [
       "array([ 6.,  4.,  8.,  5.,  3., 10., 12.])"
      ]
     },
     "execution_count": 16,
     "metadata": {},
     "output_type": "execute_result"
    }
   ],
   "source": [
    "df['cylinders'].unique()"
   ]
  },
  {
   "cell_type": "markdown",
   "metadata": {},
   "source": [
    "## Fuel"
   ]
  },
  {
   "cell_type": "code",
   "execution_count": 17,
   "metadata": {},
   "outputs": [
    {
     "data": {
      "text/html": [
       "<div>\n",
       "<style scoped>\n",
       "    .dataframe tbody tr th:only-of-type {\n",
       "        vertical-align: middle;\n",
       "    }\n",
       "\n",
       "    .dataframe tbody tr th {\n",
       "        vertical-align: top;\n",
       "    }\n",
       "\n",
       "    .dataframe thead th {\n",
       "        text-align: right;\n",
       "    }\n",
       "</style>\n",
       "<table border=\"1\" class=\"dataframe\">\n",
       "  <thead>\n",
       "    <tr style=\"text-align: right;\">\n",
       "      <th></th>\n",
       "      <th>mean</th>\n",
       "      <th>count</th>\n",
       "    </tr>\n",
       "    <tr>\n",
       "      <th>fuel</th>\n",
       "      <th></th>\n",
       "      <th></th>\n",
       "    </tr>\n",
       "  </thead>\n",
       "  <tbody>\n",
       "    <tr>\n",
       "      <th>diesel</th>\n",
       "      <td>20854.858158</td>\n",
       "      <td>3941</td>\n",
       "    </tr>\n",
       "    <tr>\n",
       "      <th>electric</th>\n",
       "      <td>15166.683908</td>\n",
       "      <td>174</td>\n",
       "    </tr>\n",
       "    <tr>\n",
       "      <th>gas</th>\n",
       "      <td>13025.972290</td>\n",
       "      <td>75784</td>\n",
       "    </tr>\n",
       "    <tr>\n",
       "      <th>hybrid</th>\n",
       "      <td>11242.358569</td>\n",
       "      <td>1202</td>\n",
       "    </tr>\n",
       "    <tr>\n",
       "      <th>other</th>\n",
       "      <td>19159.013670</td>\n",
       "      <td>1902</td>\n",
       "    </tr>\n",
       "  </tbody>\n",
       "</table>\n",
       "</div>"
      ],
      "text/plain": [
       "                  mean  count\n",
       "fuel                         \n",
       "diesel    20854.858158   3941\n",
       "electric  15166.683908    174\n",
       "gas       13025.972290  75784\n",
       "hybrid    11242.358569   1202\n",
       "other     19159.013670   1902"
      ]
     },
     "execution_count": 17,
     "metadata": {},
     "output_type": "execute_result"
    }
   ],
   "source": [
    "df.groupby(\"fuel\")['price'].agg([('mean'),('count')])"
   ]
  },
  {
   "cell_type": "markdown",
   "metadata": {},
   "source": [
    "Since there are only 5 categories, we can convert this column to dummy (onehot)."
   ]
  },
  {
   "cell_type": "code",
   "execution_count": 18,
   "metadata": {},
   "outputs": [],
   "source": [
    "onehot_these_columns.append('fuel')"
   ]
  },
  {
   "cell_type": "markdown",
   "metadata": {},
   "source": [
    "## Transmission"
   ]
  },
  {
   "cell_type": "code",
   "execution_count": 19,
   "metadata": {},
   "outputs": [
    {
     "data": {
      "text/html": [
       "<div>\n",
       "<style scoped>\n",
       "    .dataframe tbody tr th:only-of-type {\n",
       "        vertical-align: middle;\n",
       "    }\n",
       "\n",
       "    .dataframe tbody tr th {\n",
       "        vertical-align: top;\n",
       "    }\n",
       "\n",
       "    .dataframe thead th {\n",
       "        text-align: right;\n",
       "    }\n",
       "</style>\n",
       "<table border=\"1\" class=\"dataframe\">\n",
       "  <thead>\n",
       "    <tr style=\"text-align: right;\">\n",
       "      <th></th>\n",
       "      <th>mean</th>\n",
       "      <th>count</th>\n",
       "    </tr>\n",
       "    <tr>\n",
       "      <th>transmission</th>\n",
       "      <th></th>\n",
       "      <th></th>\n",
       "    </tr>\n",
       "  </thead>\n",
       "  <tbody>\n",
       "    <tr>\n",
       "      <th>automatic</th>\n",
       "      <td>13406.896059</td>\n",
       "      <td>74927</td>\n",
       "    </tr>\n",
       "    <tr>\n",
       "      <th>manual</th>\n",
       "      <td>10966.174769</td>\n",
       "      <td>4875</td>\n",
       "    </tr>\n",
       "    <tr>\n",
       "      <th>other</th>\n",
       "      <td>19976.082162</td>\n",
       "      <td>3201</td>\n",
       "    </tr>\n",
       "  </tbody>\n",
       "</table>\n",
       "</div>"
      ],
      "text/plain": [
       "                      mean  count\n",
       "transmission                     \n",
       "automatic     13406.896059  74927\n",
       "manual        10966.174769   4875\n",
       "other         19976.082162   3201"
      ]
     },
     "execution_count": 19,
     "metadata": {},
     "output_type": "execute_result"
    }
   ],
   "source": [
    "df.groupby(\"transmission\")['price'].agg([('mean'),('count')])"
   ]
  },
  {
   "cell_type": "markdown",
   "metadata": {},
   "source": [
    "Since there are only 3 unique values, we should convert this to dummy(onehot)."
   ]
  },
  {
   "cell_type": "code",
   "execution_count": 20,
   "metadata": {},
   "outputs": [],
   "source": [
    "onehot_these_columns.append('transmission')"
   ]
  },
  {
   "cell_type": "markdown",
   "metadata": {},
   "source": [
    "## Drive"
   ]
  },
  {
   "cell_type": "code",
   "execution_count": 21,
   "metadata": {},
   "outputs": [
    {
     "data": {
      "text/html": [
       "<div>\n",
       "<style scoped>\n",
       "    .dataframe tbody tr th:only-of-type {\n",
       "        vertical-align: middle;\n",
       "    }\n",
       "\n",
       "    .dataframe tbody tr th {\n",
       "        vertical-align: top;\n",
       "    }\n",
       "\n",
       "    .dataframe thead th {\n",
       "        text-align: right;\n",
       "    }\n",
       "</style>\n",
       "<table border=\"1\" class=\"dataframe\">\n",
       "  <thead>\n",
       "    <tr style=\"text-align: right;\">\n",
       "      <th></th>\n",
       "      <th>mean</th>\n",
       "      <th>count</th>\n",
       "    </tr>\n",
       "    <tr>\n",
       "      <th>drive</th>\n",
       "      <th></th>\n",
       "      <th></th>\n",
       "    </tr>\n",
       "  </thead>\n",
       "  <tbody>\n",
       "    <tr>\n",
       "      <th>4wd</th>\n",
       "      <td>16590.406614</td>\n",
       "      <td>31841</td>\n",
       "    </tr>\n",
       "    <tr>\n",
       "      <th>fwd</th>\n",
       "      <td>10372.548913</td>\n",
       "      <td>38037</td>\n",
       "    </tr>\n",
       "    <tr>\n",
       "      <th>rwd</th>\n",
       "      <td>15173.048533</td>\n",
       "      <td>13125</td>\n",
       "    </tr>\n",
       "  </tbody>\n",
       "</table>\n",
       "</div>"
      ],
      "text/plain": [
       "               mean  count\n",
       "drive                     \n",
       "4wd    16590.406614  31841\n",
       "fwd    10372.548913  38037\n",
       "rwd    15173.048533  13125"
      ]
     },
     "execution_count": 21,
     "metadata": {},
     "output_type": "execute_result"
    }
   ],
   "source": [
    "df.groupby(\"drive\")['price'].agg([('mean'),('count')])"
   ]
  },
  {
   "cell_type": "markdown",
   "metadata": {},
   "source": [
    "Since there are only 3 unique values, we should convert this to dummy(onehot)."
   ]
  },
  {
   "cell_type": "code",
   "execution_count": 22,
   "metadata": {},
   "outputs": [],
   "source": [
    "onehot_these_columns.append('drive')"
   ]
  },
  {
   "cell_type": "markdown",
   "metadata": {},
   "source": [
    "## Type"
   ]
  },
  {
   "cell_type": "code",
   "execution_count": 23,
   "metadata": {},
   "outputs": [
    {
     "data": {
      "text/html": [
       "<div>\n",
       "<style scoped>\n",
       "    .dataframe tbody tr th:only-of-type {\n",
       "        vertical-align: middle;\n",
       "    }\n",
       "\n",
       "    .dataframe tbody tr th {\n",
       "        vertical-align: top;\n",
       "    }\n",
       "\n",
       "    .dataframe thead th {\n",
       "        text-align: right;\n",
       "    }\n",
       "</style>\n",
       "<table border=\"1\" class=\"dataframe\">\n",
       "  <thead>\n",
       "    <tr style=\"text-align: right;\">\n",
       "      <th></th>\n",
       "      <th>mean</th>\n",
       "      <th>count</th>\n",
       "    </tr>\n",
       "    <tr>\n",
       "      <th>type</th>\n",
       "      <th></th>\n",
       "      <th></th>\n",
       "    </tr>\n",
       "  </thead>\n",
       "  <tbody>\n",
       "    <tr>\n",
       "      <th>SUV</th>\n",
       "      <td>13817.498382</td>\n",
       "      <td>23799</td>\n",
       "    </tr>\n",
       "    <tr>\n",
       "      <th>bus</th>\n",
       "      <td>18051.030303</td>\n",
       "      <td>33</td>\n",
       "    </tr>\n",
       "    <tr>\n",
       "      <th>convertible</th>\n",
       "      <td>12887.358553</td>\n",
       "      <td>1520</td>\n",
       "    </tr>\n",
       "    <tr>\n",
       "      <th>coupe</th>\n",
       "      <td>15030.873151</td>\n",
       "      <td>3989</td>\n",
       "    </tr>\n",
       "    <tr>\n",
       "      <th>hatchback</th>\n",
       "      <td>8957.641141</td>\n",
       "      <td>3330</td>\n",
       "    </tr>\n",
       "    <tr>\n",
       "      <th>mini-van</th>\n",
       "      <td>9352.472274</td>\n",
       "      <td>2164</td>\n",
       "    </tr>\n",
       "    <tr>\n",
       "      <th>offroad</th>\n",
       "      <td>14647.139665</td>\n",
       "      <td>179</td>\n",
       "    </tr>\n",
       "    <tr>\n",
       "      <th>other</th>\n",
       "      <td>17443.189781</td>\n",
       "      <td>1644</td>\n",
       "    </tr>\n",
       "    <tr>\n",
       "      <th>pickup</th>\n",
       "      <td>20043.934753</td>\n",
       "      <td>7418</td>\n",
       "    </tr>\n",
       "    <tr>\n",
       "      <th>sedan</th>\n",
       "      <td>10106.792628</td>\n",
       "      <td>25177</td>\n",
       "    </tr>\n",
       "    <tr>\n",
       "      <th>truck</th>\n",
       "      <td>18861.383728</td>\n",
       "      <td>8235</td>\n",
       "    </tr>\n",
       "    <tr>\n",
       "      <th>van</th>\n",
       "      <td>14431.945551</td>\n",
       "      <td>2461</td>\n",
       "    </tr>\n",
       "    <tr>\n",
       "      <th>wagon</th>\n",
       "      <td>12313.523248</td>\n",
       "      <td>3054</td>\n",
       "    </tr>\n",
       "  </tbody>\n",
       "</table>\n",
       "</div>"
      ],
      "text/plain": [
       "                     mean  count\n",
       "type                            \n",
       "SUV          13817.498382  23799\n",
       "bus          18051.030303     33\n",
       "convertible  12887.358553   1520\n",
       "coupe        15030.873151   3989\n",
       "hatchback     8957.641141   3330\n",
       "mini-van      9352.472274   2164\n",
       "offroad      14647.139665    179\n",
       "other        17443.189781   1644\n",
       "pickup       20043.934753   7418\n",
       "sedan        10106.792628  25177\n",
       "truck        18861.383728   8235\n",
       "van          14431.945551   2461\n",
       "wagon        12313.523248   3054"
      ]
     },
     "execution_count": 23,
     "metadata": {},
     "output_type": "execute_result"
    }
   ],
   "source": [
    "df.groupby(\"type\")['price'].agg([('mean'),('count')])"
   ]
  },
  {
   "cell_type": "code",
   "execution_count": 24,
   "metadata": {},
   "outputs": [],
   "source": [
    "onehot_these_columns.append('type')"
   ]
  },
  {
   "cell_type": "code",
   "execution_count": null,
   "metadata": {},
   "outputs": [],
   "source": []
  },
  {
   "cell_type": "markdown",
   "metadata": {},
   "source": [
    "Since the price does fluctuate with the type of vehicle, this feature seems useful. Let's convert this to a dummy (onehot) as well."
   ]
  },
  {
   "cell_type": "markdown",
   "metadata": {},
   "source": [
    "## Paint"
   ]
  },
  {
   "cell_type": "code",
   "execution_count": 25,
   "metadata": {},
   "outputs": [
    {
     "data": {
      "text/html": [
       "<div>\n",
       "<style scoped>\n",
       "    .dataframe tbody tr th:only-of-type {\n",
       "        vertical-align: middle;\n",
       "    }\n",
       "\n",
       "    .dataframe tbody tr th {\n",
       "        vertical-align: top;\n",
       "    }\n",
       "\n",
       "    .dataframe thead th {\n",
       "        text-align: right;\n",
       "    }\n",
       "</style>\n",
       "<table border=\"1\" class=\"dataframe\">\n",
       "  <thead>\n",
       "    <tr style=\"text-align: right;\">\n",
       "      <th></th>\n",
       "      <th>mean</th>\n",
       "      <th>count</th>\n",
       "    </tr>\n",
       "    <tr>\n",
       "      <th>paint_color</th>\n",
       "      <th></th>\n",
       "      <th></th>\n",
       "    </tr>\n",
       "  </thead>\n",
       "  <tbody>\n",
       "    <tr>\n",
       "      <th>black</th>\n",
       "      <td>14574.167654</td>\n",
       "      <td>15860</td>\n",
       "    </tr>\n",
       "    <tr>\n",
       "      <th>blue</th>\n",
       "      <td>11694.343485</td>\n",
       "      <td>8833</td>\n",
       "    </tr>\n",
       "    <tr>\n",
       "      <th>brown</th>\n",
       "      <td>10781.580084</td>\n",
       "      <td>1898</td>\n",
       "    </tr>\n",
       "    <tr>\n",
       "      <th>custom</th>\n",
       "      <td>14022.346578</td>\n",
       "      <td>3171</td>\n",
       "    </tr>\n",
       "    <tr>\n",
       "      <th>green</th>\n",
       "      <td>9246.564463</td>\n",
       "      <td>2133</td>\n",
       "    </tr>\n",
       "    <tr>\n",
       "      <th>grey</th>\n",
       "      <td>12753.835218</td>\n",
       "      <td>9376</td>\n",
       "    </tr>\n",
       "    <tr>\n",
       "      <th>orange</th>\n",
       "      <td>16363.644211</td>\n",
       "      <td>475</td>\n",
       "    </tr>\n",
       "    <tr>\n",
       "      <th>purple</th>\n",
       "      <td>9380.276151</td>\n",
       "      <td>239</td>\n",
       "    </tr>\n",
       "    <tr>\n",
       "      <th>red</th>\n",
       "      <td>12791.435066</td>\n",
       "      <td>8139</td>\n",
       "    </tr>\n",
       "    <tr>\n",
       "      <th>silver</th>\n",
       "      <td>12065.969166</td>\n",
       "      <td>13070</td>\n",
       "    </tr>\n",
       "    <tr>\n",
       "      <th>white</th>\n",
       "      <td>15749.695122</td>\n",
       "      <td>19270</td>\n",
       "    </tr>\n",
       "    <tr>\n",
       "      <th>yellow</th>\n",
       "      <td>14741.144712</td>\n",
       "      <td>539</td>\n",
       "    </tr>\n",
       "  </tbody>\n",
       "</table>\n",
       "</div>"
      ],
      "text/plain": [
       "                     mean  count\n",
       "paint_color                     \n",
       "black        14574.167654  15860\n",
       "blue         11694.343485   8833\n",
       "brown        10781.580084   1898\n",
       "custom       14022.346578   3171\n",
       "green         9246.564463   2133\n",
       "grey         12753.835218   9376\n",
       "orange       16363.644211    475\n",
       "purple        9380.276151    239\n",
       "red          12791.435066   8139\n",
       "silver       12065.969166  13070\n",
       "white        15749.695122  19270\n",
       "yellow       14741.144712    539"
      ]
     },
     "execution_count": 25,
     "metadata": {},
     "output_type": "execute_result"
    }
   ],
   "source": [
    "df.groupby(\"paint_color\")['price'].agg([('mean'),('count')])"
   ]
  },
  {
   "cell_type": "markdown",
   "metadata": {},
   "source": [
    "It looks like some colors are preferred over the others. Let's also convert this column to dummy(onehot)."
   ]
  },
  {
   "cell_type": "code",
   "execution_count": 26,
   "metadata": {},
   "outputs": [],
   "source": [
    "onehot_these_columns.append('paint_color')"
   ]
  },
  {
   "cell_type": "markdown",
   "metadata": {},
   "source": [
    "## State"
   ]
  },
  {
   "cell_type": "code",
   "execution_count": 27,
   "metadata": {},
   "outputs": [
    {
     "data": {
      "text/html": [
       "<div>\n",
       "<style scoped>\n",
       "    .dataframe tbody tr th:only-of-type {\n",
       "        vertical-align: middle;\n",
       "    }\n",
       "\n",
       "    .dataframe tbody tr th {\n",
       "        vertical-align: top;\n",
       "    }\n",
       "\n",
       "    .dataframe thead th {\n",
       "        text-align: right;\n",
       "    }\n",
       "</style>\n",
       "<table border=\"1\" class=\"dataframe\">\n",
       "  <thead>\n",
       "    <tr style=\"text-align: right;\">\n",
       "      <th></th>\n",
       "      <th>STATEFP</th>\n",
       "      <th>STATENS</th>\n",
       "      <th>AFFGEOID</th>\n",
       "      <th>GEOID</th>\n",
       "      <th>STUSPS</th>\n",
       "      <th>NAME</th>\n",
       "      <th>LSAD</th>\n",
       "      <th>ALAND</th>\n",
       "      <th>AWATER</th>\n",
       "      <th>geometry</th>\n",
       "      <th>mean</th>\n",
       "      <th>count</th>\n",
       "    </tr>\n",
       "  </thead>\n",
       "  <tbody>\n",
       "    <tr>\n",
       "      <th>0</th>\n",
       "      <td>24</td>\n",
       "      <td>01714934</td>\n",
       "      <td>0400000US24</td>\n",
       "      <td>24</td>\n",
       "      <td>md</td>\n",
       "      <td>Maryland</td>\n",
       "      <td>00</td>\n",
       "      <td>25151100280</td>\n",
       "      <td>6979966958</td>\n",
       "      <td>MULTIPOLYGON (((-76.04621 38.02553, -76.00734 ...</td>\n",
       "      <td>12705.338998</td>\n",
       "      <td>1118</td>\n",
       "    </tr>\n",
       "    <tr>\n",
       "      <th>1</th>\n",
       "      <td>19</td>\n",
       "      <td>01779785</td>\n",
       "      <td>0400000US19</td>\n",
       "      <td>19</td>\n",
       "      <td>ia</td>\n",
       "      <td>Iowa</td>\n",
       "      <td>00</td>\n",
       "      <td>144661267977</td>\n",
       "      <td>1084180812</td>\n",
       "      <td>POLYGON ((-96.62187 42.77925, -96.57794 42.827...</td>\n",
       "      <td>12341.300728</td>\n",
       "      <td>2198</td>\n",
       "    </tr>\n",
       "    <tr>\n",
       "      <th>2</th>\n",
       "      <td>10</td>\n",
       "      <td>01779781</td>\n",
       "      <td>0400000US10</td>\n",
       "      <td>10</td>\n",
       "      <td>de</td>\n",
       "      <td>Delaware</td>\n",
       "      <td>00</td>\n",
       "      <td>5045925646</td>\n",
       "      <td>1399985648</td>\n",
       "      <td>POLYGON ((-75.77379 39.72220, -75.75323 39.757...</td>\n",
       "      <td>12961.556420</td>\n",
       "      <td>257</td>\n",
       "    </tr>\n",
       "    <tr>\n",
       "      <th>3</th>\n",
       "      <td>39</td>\n",
       "      <td>01085497</td>\n",
       "      <td>0400000US39</td>\n",
       "      <td>39</td>\n",
       "      <td>oh</td>\n",
       "      <td>Ohio</td>\n",
       "      <td>00</td>\n",
       "      <td>105828882568</td>\n",
       "      <td>10268850702</td>\n",
       "      <td>MULTIPOLYGON (((-82.86334 41.69369, -82.82572 ...</td>\n",
       "      <td>12131.137767</td>\n",
       "      <td>3985</td>\n",
       "    </tr>\n",
       "    <tr>\n",
       "      <th>4</th>\n",
       "      <td>42</td>\n",
       "      <td>01779798</td>\n",
       "      <td>0400000US42</td>\n",
       "      <td>42</td>\n",
       "      <td>pa</td>\n",
       "      <td>Pennsylvania</td>\n",
       "      <td>00</td>\n",
       "      <td>115884442321</td>\n",
       "      <td>3394589990</td>\n",
       "      <td>POLYGON ((-80.51989 40.90666, -80.51964 40.987...</td>\n",
       "      <td>11128.381918</td>\n",
       "      <td>2909</td>\n",
       "    </tr>\n",
       "  </tbody>\n",
       "</table>\n",
       "</div>"
      ],
      "text/plain": [
       "  STATEFP   STATENS     AFFGEOID GEOID STUSPS          NAME LSAD  \\\n",
       "0      24  01714934  0400000US24    24     md      Maryland   00   \n",
       "1      19  01779785  0400000US19    19     ia          Iowa   00   \n",
       "2      10  01779781  0400000US10    10     de      Delaware   00   \n",
       "3      39  01085497  0400000US39    39     oh          Ohio   00   \n",
       "4      42  01779798  0400000US42    42     pa  Pennsylvania   00   \n",
       "\n",
       "          ALAND       AWATER  \\\n",
       "0   25151100280   6979966958   \n",
       "1  144661267977   1084180812   \n",
       "2    5045925646   1399985648   \n",
       "3  105828882568  10268850702   \n",
       "4  115884442321   3394589990   \n",
       "\n",
       "                                            geometry          mean  count  \n",
       "0  MULTIPOLYGON (((-76.04621 38.02553, -76.00734 ...  12705.338998   1118  \n",
       "1  POLYGON ((-96.62187 42.77925, -96.57794 42.827...  12341.300728   2198  \n",
       "2  POLYGON ((-75.77379 39.72220, -75.75323 39.757...  12961.556420    257  \n",
       "3  MULTIPOLYGON (((-82.86334 41.69369, -82.82572 ...  12131.137767   3985  \n",
       "4  POLYGON ((-80.51989 40.90666, -80.51964 40.987...  11128.381918   2909  "
      ]
     },
     "execution_count": 27,
     "metadata": {},
     "output_type": "execute_result"
    }
   ],
   "source": [
    "usa = geopandas.read_file(\"data/maps/cb_2018_us_state_20m.shp\")\n",
    "\n",
    "usa['STUSPS'] = usa['STUSPS'].str.lower()\n",
    "usa = usa[(usa['STUSPS']!='ak') & (usa['STUSPS']!='hi')]\n",
    "\n",
    "state_df = df.groupby('state')['price'].agg(['mean', 'count'])\n",
    "\n",
    "state_df = usa.merge(state_df, right_on=\"state\", left_on=\"STUSPS\")\n",
    "\n",
    "state_df.head()"
   ]
  },
  {
   "cell_type": "code",
   "execution_count": 28,
   "metadata": {},
   "outputs": [
    {
     "data": {
      "text/plain": [
       "Text(0.5, 1.0, 'State-wise Mean Selling Price')"
      ]
     },
     "execution_count": 28,
     "metadata": {},
     "output_type": "execute_result"
    },
    {
     "data": {
      "image/png": "[encoded data removed]",
      "text/plain": [
       "<Figure size 720x720 with 2 Axes>"
      ]
     },
     "metadata": {
      "needs_background": "light"
     },
     "output_type": "display_data"
    }
   ],
   "source": [
    "fig, ax = plt.subplots(1, 1,figsize=(10,10))\n",
    "legend = {'label':\" Dollars ($)\", 'orientation': \"horizontal\"}\n",
    "state_df.plot(column=\"mean\", ax=ax, legend=True, legend_kwds=legend, cmap=\"PuBu\")\n",
    "plt.title(\"State-wise Mean Selling Price\")\n"
   ]
  },
  {
   "cell_type": "code",
   "execution_count": 29,
   "metadata": {},
   "outputs": [],
   "source": [
    "def set_graph_text_color(COLOR):\n",
    "    mpl.rcParams['text.color'] = COLOR\n",
    "    mpl.rcParams['axes.labelcolor'] = COLOR\n",
    "    mpl.rcParams['xtick.color'] = COLOR\n",
    "    mpl.rcParams['ytick.color'] = COLOR\n",
    "    mpl.rcParams['legend.fontsize'] = 'large'\n",
    "    mpl.rcParams['axes.titlesize'] = 18\n",
    "    mpl.rcParams['legend.facecolor'] = 'cornflowerblue'"
   ]
  },
  {
   "cell_type": "code",
   "execution_count": 30,
   "metadata": {},
   "outputs": [
    {
     "name": "stdout",
     "output_type": "stream",
     "text": [
      "price        18519.010095\n",
      "year          2012.121136\n",
      "cylinders        5.692114\n",
      "odometer     89235.920505\n",
      "dtype: float64\n",
      "price         10932.005498\n",
      "year           2010.298717\n",
      "cylinders         5.727550\n",
      "odometer     118233.042150\n",
      "dtype: float64\n"
     ]
    }
   ],
   "source": [
    "print(df[df['state']=='wa'].agg('mean'))\n",
    "print(df[df['state']=='mn'].agg('mean'))"
   ]
  },
  {
   "cell_type": "code",
   "execution_count": null,
   "metadata": {},
   "outputs": [],
   "source": []
  },
  {
   "cell_type": "code",
   "execution_count": 31,
   "metadata": {},
   "outputs": [
    {
     "data": {
      "text/html": [
       "<div>\n",
       "<style scoped>\n",
       "    .dataframe tbody tr th:only-of-type {\n",
       "        vertical-align: middle;\n",
       "    }\n",
       "\n",
       "    .dataframe tbody tr th {\n",
       "        vertical-align: top;\n",
       "    }\n",
       "\n",
       "    .dataframe thead th {\n",
       "        text-align: right;\n",
       "    }\n",
       "</style>\n",
       "<table border=\"1\" class=\"dataframe\">\n",
       "  <thead>\n",
       "    <tr style=\"text-align: right;\">\n",
       "      <th></th>\n",
       "      <th>mn_mean</th>\n",
       "      <th>mn_count</th>\n",
       "      <th>wa_mean</th>\n",
       "      <th>wa_count</th>\n",
       "    </tr>\n",
       "    <tr>\n",
       "      <th>type</th>\n",
       "      <th></th>\n",
       "      <th></th>\n",
       "      <th></th>\n",
       "      <th></th>\n",
       "    </tr>\n",
       "  </thead>\n",
       "  <tbody>\n",
       "    <tr>\n",
       "      <th>SUV</th>\n",
       "      <td>12593.358065</td>\n",
       "      <td>620</td>\n",
       "      <td>20800.498069</td>\n",
       "      <td>518</td>\n",
       "    </tr>\n",
       "    <tr>\n",
       "      <th>convertible</th>\n",
       "      <td>9776.666667</td>\n",
       "      <td>21</td>\n",
       "      <td>14265.117647</td>\n",
       "      <td>17</td>\n",
       "    </tr>\n",
       "    <tr>\n",
       "      <th>coupe</th>\n",
       "      <td>6663.888889</td>\n",
       "      <td>36</td>\n",
       "      <td>15804.371795</td>\n",
       "      <td>78</td>\n",
       "    </tr>\n",
       "    <tr>\n",
       "      <th>hatchback</th>\n",
       "      <td>7169.679245</td>\n",
       "      <td>53</td>\n",
       "      <td>9966.706897</td>\n",
       "      <td>58</td>\n",
       "    </tr>\n",
       "    <tr>\n",
       "      <th>mini-van</th>\n",
       "      <td>8560.000000</td>\n",
       "      <td>58</td>\n",
       "      <td>12544.581395</td>\n",
       "      <td>43</td>\n",
       "    </tr>\n",
       "    <tr>\n",
       "      <th>other</th>\n",
       "      <td>2700.000000</td>\n",
       "      <td>2</td>\n",
       "      <td>8138.500000</td>\n",
       "      <td>6</td>\n",
       "    </tr>\n",
       "    <tr>\n",
       "      <th>pickup</th>\n",
       "      <td>12681.963190</td>\n",
       "      <td>163</td>\n",
       "      <td>19008.378378</td>\n",
       "      <td>74</td>\n",
       "    </tr>\n",
       "    <tr>\n",
       "      <th>sedan</th>\n",
       "      <td>7799.785563</td>\n",
       "      <td>471</td>\n",
       "      <td>13120.923611</td>\n",
       "      <td>432</td>\n",
       "    </tr>\n",
       "    <tr>\n",
       "      <th>truck</th>\n",
       "      <td>14129.858268</td>\n",
       "      <td>127</td>\n",
       "      <td>28283.959854</td>\n",
       "      <td>274</td>\n",
       "    </tr>\n",
       "    <tr>\n",
       "      <th>van</th>\n",
       "      <td>17042.465517</td>\n",
       "      <td>58</td>\n",
       "      <td>15218.500000</td>\n",
       "      <td>24</td>\n",
       "    </tr>\n",
       "    <tr>\n",
       "      <th>wagon</th>\n",
       "      <td>8397.160000</td>\n",
       "      <td>25</td>\n",
       "      <td>12385.982456</td>\n",
       "      <td>57</td>\n",
       "    </tr>\n",
       "  </tbody>\n",
       "</table>\n",
       "</div>"
      ],
      "text/plain": [
       "                  mn_mean  mn_count       wa_mean  wa_count\n",
       "type                                                       \n",
       "SUV          12593.358065       620  20800.498069       518\n",
       "convertible   9776.666667        21  14265.117647        17\n",
       "coupe         6663.888889        36  15804.371795        78\n",
       "hatchback     7169.679245        53   9966.706897        58\n",
       "mini-van      8560.000000        58  12544.581395        43\n",
       "other         2700.000000         2   8138.500000         6\n",
       "pickup       12681.963190       163  19008.378378        74\n",
       "sedan         7799.785563       471  13120.923611       432\n",
       "truck        14129.858268       127  28283.959854       274\n",
       "van          17042.465517        58  15218.500000        24\n",
       "wagon         8397.160000        25  12385.982456        57"
      ]
     },
     "execution_count": 31,
     "metadata": {},
     "output_type": "execute_result"
    }
   ],
   "source": [
    "# df[(df['state']==\"wa\") | (df['state']==\"mn\")].groupby([\"state\", \"type\"])['price'].agg([('mean'),('count')])\n",
    "minnesota = df[df['state']==\"mn\"].groupby('type')['price'].agg(['mean','count'])\n",
    "minnesota.rename(columns={\"mean\":\"mn_mean\",\"count\":\"mn_count\"}, inplace=True)\n",
    "\n",
    "washington = df[df['state']==\"wa\"].groupby('type')['price'].agg(['mean','count'])\n",
    "washington.rename(columns={\"mean\":\"wa_mean\",\"count\":\"wa_count\"}, inplace=True)\n",
    "\n",
    "state_type_comp = minnesota.merge(washington, on=\"type\", how=\"inner\")\n",
    "state_type_comp"
   ]
  },
  {
   "cell_type": "code",
   "execution_count": 32,
   "metadata": {},
   "outputs": [
    {
     "data": {
      "image/png": "[encoded data removed]",
      "text/plain": [
       "<Figure size 432x288 with 1 Axes>"
      ]
     },
     "metadata": {
      "needs_background": "light"
     },
     "output_type": "display_data"
    }
   ],
   "source": [
    "# set_graph_text_color('white')\n",
    "state_type_comp.plot(y=['mn_count',\"wa_count\"], kind=\"bar\",\n",
    "                    title=\"Count comparison across different vahicle types\\n(Minnesota vs Washington)\")\n",
    "set_graph_text_color('black')"
   ]
  },
  {
   "cell_type": "code",
   "execution_count": 33,
   "metadata": {},
   "outputs": [
    {
     "data": {
      "text/plain": [
       "(array([ 0,  1,  2,  3,  4,  5,  6,  7,  8,  9, 10]),\n",
       " [Text(0, 0, 'SUV'),\n",
       "  Text(1, 0, 'convertible'),\n",
       "  Text(2, 0, 'coupe'),\n",
       "  Text(3, 0, 'hatchback'),\n",
       "  Text(4, 0, 'mini-van'),\n",
       "  Text(5, 0, 'other'),\n",
       "  Text(6, 0, 'pickup'),\n",
       "  Text(7, 0, 'sedan'),\n",
       "  Text(8, 0, 'truck'),\n",
       "  Text(9, 0, 'van'),\n",
       "  Text(10, 0, 'wagon')])"
      ]
     },
     "execution_count": 33,
     "metadata": {},
     "output_type": "execute_result"
    },
    {
     "data": {
      "image/png": "[encoded data removed]",
      "text/plain": [
       "<Figure size 432x288 with 1 Axes>"
      ]
     },
     "metadata": {
      "needs_background": "light"
     },
     "output_type": "display_data"
    }
   ],
   "source": [
    "# set_graph_text_color('white')\n",
    "state_type_comp.plot(y=['mn_mean',\"wa_mean\"], kind=\"bar\", \n",
    "                     title=\"Mean Price comparison across different vahicle types\\n(Minnesota vs Washington)\")\n",
    "set_graph_text_color('black')\n",
    "plt.xticks(rotation=45)"
   ]
  },
  {
   "cell_type": "code",
   "execution_count": 34,
   "metadata": {
    "scrolled": true
   },
   "outputs": [
    {
     "data": {
      "text/plain": [
       "(array([ 0,  1,  2,  3,  4,  5,  6,  7,  8,  9, 10]),\n",
       " [Text(0, 0, 'SUV'),\n",
       "  Text(1, 0, 'convertible'),\n",
       "  Text(2, 0, 'coupe'),\n",
       "  Text(3, 0, 'hatchback'),\n",
       "  Text(4, 0, 'mini-van'),\n",
       "  Text(5, 0, 'other'),\n",
       "  Text(6, 0, 'pickup'),\n",
       "  Text(7, 0, 'sedan'),\n",
       "  Text(8, 0, 'truck'),\n",
       "  Text(9, 0, 'van'),\n",
       "  Text(10, 0, 'wagon')])"
      ]
     },
     "execution_count": 34,
     "metadata": {},
     "output_type": "execute_result"
    },
    {
     "data": {
      "image/png": "[encoded data removed]",
      "text/plain": [
       "<Figure size 432x288 with 1 Axes>"
      ]
     },
     "metadata": {
      "needs_background": "light"
     },
     "output_type": "display_data"
    }
   ],
   "source": [
    "# df[(df['state']==\"wa\") | (df['state']==\"mn\")].groupby([\"state\", \"type\"])['price'].agg([('mean'),('count')])\n",
    "minnesota = df[df['state']==\"mn\"].groupby('type')['odometer'].agg(['mean','count'])\n",
    "minnesota.rename(columns={\"mean\":\"mn_mean\",\"count\":\"mn_count\"}, inplace=True)\n",
    "\n",
    "washington = df[df['state']==\"wa\"].groupby('type')['odometer'].agg(['mean','count'])\n",
    "washington.rename(columns={\"mean\":\"wa_mean\",\"count\":\"wa_count\"}, inplace=True)\n",
    "\n",
    "state_type_comp = minnesota.merge(washington, on=\"type\", how=\"inner\")\n",
    "\n",
    "# set_graph_text_color('white')\n",
    "state_type_comp.plot(y=['mn_mean',\"wa_mean\"], kind=\"bar\", \n",
    "                     title=\"Mean Odometer comparison across different vahicle types\\n(Minnesota vs Washington)\")\n",
    "set_graph_text_color('black')\n",
    "plt.xticks(rotation=45)"
   ]
  },
  {
   "cell_type": "code",
   "execution_count": 35,
   "metadata": {},
   "outputs": [
    {
     "data": {
      "text/html": [
       "<div>\n",
       "<style scoped>\n",
       "    .dataframe tbody tr th:only-of-type {\n",
       "        vertical-align: middle;\n",
       "    }\n",
       "\n",
       "    .dataframe tbody tr th {\n",
       "        vertical-align: top;\n",
       "    }\n",
       "\n",
       "    .dataframe thead th {\n",
       "        text-align: right;\n",
       "    }\n",
       "</style>\n",
       "<table border=\"1\" class=\"dataframe\">\n",
       "  <thead>\n",
       "    <tr style=\"text-align: right;\">\n",
       "      <th></th>\n",
       "      <th>mean</th>\n",
       "      <th>count</th>\n",
       "    </tr>\n",
       "    <tr>\n",
       "      <th>state</th>\n",
       "      <th></th>\n",
       "      <th></th>\n",
       "    </tr>\n",
       "  </thead>\n",
       "  <tbody>\n",
       "    <tr>\n",
       "      <th>ak</th>\n",
       "      <td>18272.636199</td>\n",
       "      <td>1105</td>\n",
       "    </tr>\n",
       "    <tr>\n",
       "      <th>al</th>\n",
       "      <td>14327.241065</td>\n",
       "      <td>1427</td>\n",
       "    </tr>\n",
       "    <tr>\n",
       "      <th>ar</th>\n",
       "      <td>14580.399110</td>\n",
       "      <td>674</td>\n",
       "    </tr>\n",
       "    <tr>\n",
       "      <th>az</th>\n",
       "      <td>12604.070473</td>\n",
       "      <td>1121</td>\n",
       "    </tr>\n",
       "    <tr>\n",
       "      <th>ca</th>\n",
       "      <td>14843.310898</td>\n",
       "      <td>6359</td>\n",
       "    </tr>\n",
       "  </tbody>\n",
       "</table>\n",
       "</div>"
      ],
      "text/plain": [
       "               mean  count\n",
       "state                     \n",
       "ak     18272.636199   1105\n",
       "al     14327.241065   1427\n",
       "ar     14580.399110    674\n",
       "az     12604.070473   1121\n",
       "ca     14843.310898   6359"
      ]
     },
     "execution_count": 35,
     "metadata": {},
     "output_type": "execute_result"
    }
   ],
   "source": [
    "df.groupby(\"state\")['price'].agg([('mean'),('count')]).head()"
   ]
  },
  {
   "cell_type": "markdown",
   "metadata": {},
   "source": [
    "The prices of the used cars vary from one state to another. But it is hard to tell if it will play an important role in building the model for now."
   ]
  },
  {
   "cell_type": "code",
   "execution_count": 36,
   "metadata": {},
   "outputs": [
    {
     "name": "stdout",
     "output_type": "stream",
     "text": [
      "[10 13 12 15 11 18 14 16]\n"
     ]
    }
   ],
   "source": [
    "method = \"bucket\"\n",
    "if method==\"bucket\":\n",
    "    state_buckets = {}\n",
    "    for k,v in dict(df.groupby(\"state\")['price'].mean()).items():\n",
    "        state_buckets[k] = int(v/1000)\n",
    "\n",
    "    df['state'].replace(state_buckets, inplace=True)\n",
    "    print(df['state'].unique())\n",
    "elif method==\"onehot\":\n",
    "    onehot_these_columns.append('state')\n",
    "else:\n",
    "    delete_these_columns.append('state')\n",
    "    "
   ]
  },
  {
   "cell_type": "code",
   "execution_count": null,
   "metadata": {},
   "outputs": [],
   "source": []
  },
  {
   "cell_type": "markdown",
   "metadata": {},
   "source": [
    "## Year"
   ]
  },
  {
   "cell_type": "code",
   "execution_count": 37,
   "metadata": {},
   "outputs": [
    {
     "data": {
      "text/plain": [
       "count    83003.000000\n",
       "mean      2011.128610\n",
       "std          5.800385\n",
       "min       1981.000000\n",
       "25%       2007.000000\n",
       "50%       2012.000000\n",
       "75%       2016.000000\n",
       "max       2021.000000\n",
       "Name: year, dtype: float64"
      ]
     },
     "execution_count": 37,
     "metadata": {},
     "output_type": "execute_result"
    }
   ],
   "source": [
    "df['year'].describe()"
   ]
  },
  {
   "cell_type": "code",
   "execution_count": 38,
   "metadata": {},
   "outputs": [
    {
     "data": {
      "text/plain": [
       "1981.0"
      ]
     },
     "execution_count": 38,
     "metadata": {},
     "output_type": "execute_result"
    }
   ],
   "source": [
    "df['year'].min()"
   ]
  },
  {
   "cell_type": "code",
   "execution_count": 39,
   "metadata": {},
   "outputs": [],
   "source": [
    "df['year_count'] = df['year']-df['year'].min()\n",
    "delete_these_columns.append('year')"
   ]
  },
  {
   "cell_type": "code",
   "execution_count": 40,
   "metadata": {},
   "outputs": [
    {
     "data": {
      "text/plain": [
       "<AxesSubplot:xlabel='year'>"
      ]
     },
     "execution_count": 40,
     "metadata": {},
     "output_type": "execute_result"
    },
    {
     "data": {
      "image/png": "[encoded data removed]",
      "text/plain": [
       "<Figure size 432x288 with 1 Axes>"
      ]
     },
     "metadata": {
      "needs_background": "light"
     },
     "output_type": "display_data"
    }
   ],
   "source": [
    "df.groupby('year')['price'].agg([('mean'),('count')]).plot()"
   ]
  },
  {
   "cell_type": "markdown",
   "metadata": {},
   "source": [
    "## Drop columns"
   ]
  },
  {
   "cell_type": "code",
   "execution_count": 41,
   "metadata": {},
   "outputs": [
    {
     "name": "stdout",
     "output_type": "stream",
     "text": [
      "We will delete these columns:  ['model', 'year']\n"
     ]
    }
   ],
   "source": [
    "print(\"We will delete these columns: \", delete_these_columns)"
   ]
  },
  {
   "cell_type": "code",
   "execution_count": 42,
   "metadata": {
    "scrolled": true
   },
   "outputs": [],
   "source": [
    "df.drop(columns=delete_these_columns, axis=1, inplace=True)"
   ]
  },
  {
   "cell_type": "markdown",
   "metadata": {},
   "source": [
    "## Correlations"
   ]
  },
  {
   "cell_type": "code",
   "execution_count": 43,
   "metadata": {},
   "outputs": [
    {
     "data": {
      "image/png": "[encoded data removed]",
      "text/plain": [
       "<Figure size 720x720 with 2 Axes>"
      ]
     },
     "metadata": {
      "needs_background": "light"
     },
     "output_type": "display_data"
    }
   ],
   "source": [
    "corr_matrix= df.corr()\n",
    "\n",
    "# set_graph_text_color('white')\n",
    "\n",
    "fig_cor, axes_cor = plt.subplots(1,1)\n",
    "fig_cor.set_size_inches(10, 10)\n",
    "\n",
    "labels = df.select_dtypes(include=np.number).columns.tolist()\n",
    "\n",
    "myimage = axes_cor.imshow(corr_matrix, cmap=\"RdBu\", vmin=-1)\n",
    "# plt.pcolor()\n",
    "plt.colorbar(myimage)\n",
    "\n",
    "axes_cor.set_xticks(np.arange(0,corr_matrix.shape[0], corr_matrix.shape[0]*1.0/len(labels)))\n",
    "axes_cor.set_yticks(np.arange(0,corr_matrix.shape[1], corr_matrix.shape[1]*1.0/len(labels)))\n",
    "\n",
    "axes_cor.set_xticklabels(labels)\n",
    "axes_cor.set_yticklabels(labels)\n",
    "\n",
    "plt.draw()"
   ]
  },
  {
   "cell_type": "markdown",
   "metadata": {},
   "source": [
    "## Convert to onehot/dummy"
   ]
  },
  {
   "cell_type": "code",
   "execution_count": 44,
   "metadata": {},
   "outputs": [
    {
     "name": "stdout",
     "output_type": "stream",
     "text": [
      "We want to convert these columns into onehot:\n",
      " ['manufacturer', 'condition', 'fuel', 'transmission', 'drive', 'type', 'paint_color']\n"
     ]
    }
   ],
   "source": [
    "print(\"We want to convert these columns into onehot:\\n\", onehot_these_columns)\n"
   ]
  },
  {
   "cell_type": "code",
   "execution_count": 45,
   "metadata": {},
   "outputs": [],
   "source": [
    "df_dummy = pd.get_dummies(df, columns=onehot_these_columns)"
   ]
  },
  {
   "cell_type": "code",
   "execution_count": 46,
   "metadata": {},
   "outputs": [
    {
     "data": {
      "text/html": [
       "<div>\n",
       "<style scoped>\n",
       "    .dataframe tbody tr th:only-of-type {\n",
       "        vertical-align: middle;\n",
       "    }\n",
       "\n",
       "    .dataframe tbody tr th {\n",
       "        vertical-align: top;\n",
       "    }\n",
       "\n",
       "    .dataframe thead th {\n",
       "        text-align: right;\n",
       "    }\n",
       "</style>\n",
       "<table border=\"1\" class=\"dataframe\">\n",
       "  <thead>\n",
       "    <tr style=\"text-align: right;\">\n",
       "      <th></th>\n",
       "      <th>price</th>\n",
       "      <th>cylinders</th>\n",
       "      <th>odometer</th>\n",
       "      <th>state</th>\n",
       "      <th>year_count</th>\n",
       "      <th>manufacturer_acura</th>\n",
       "      <th>manufacturer_alfa-romeo</th>\n",
       "      <th>manufacturer_audi</th>\n",
       "      <th>manufacturer_bmw</th>\n",
       "      <th>manufacturer_buick</th>\n",
       "      <th>...</th>\n",
       "      <th>paint_color_brown</th>\n",
       "      <th>paint_color_custom</th>\n",
       "      <th>paint_color_green</th>\n",
       "      <th>paint_color_grey</th>\n",
       "      <th>paint_color_orange</th>\n",
       "      <th>paint_color_purple</th>\n",
       "      <th>paint_color_red</th>\n",
       "      <th>paint_color_silver</th>\n",
       "      <th>paint_color_white</th>\n",
       "      <th>paint_color_yellow</th>\n",
       "    </tr>\n",
       "  </thead>\n",
       "  <tbody>\n",
       "    <tr>\n",
       "      <th>0</th>\n",
       "      <td>13995</td>\n",
       "      <td>6.0</td>\n",
       "      <td>188406.0</td>\n",
       "      <td>10</td>\n",
       "      <td>31.0</td>\n",
       "      <td>0</td>\n",
       "      <td>0</td>\n",
       "      <td>0</td>\n",
       "      <td>0</td>\n",
       "      <td>0</td>\n",
       "      <td>...</td>\n",
       "      <td>0</td>\n",
       "      <td>0</td>\n",
       "      <td>0</td>\n",
       "      <td>1</td>\n",
       "      <td>0</td>\n",
       "      <td>0</td>\n",
       "      <td>0</td>\n",
       "      <td>0</td>\n",
       "      <td>0</td>\n",
       "      <td>0</td>\n",
       "    </tr>\n",
       "    <tr>\n",
       "      <th>1</th>\n",
       "      <td>7995</td>\n",
       "      <td>4.0</td>\n",
       "      <td>108124.0</td>\n",
       "      <td>10</td>\n",
       "      <td>29.0</td>\n",
       "      <td>0</td>\n",
       "      <td>0</td>\n",
       "      <td>0</td>\n",
       "      <td>0</td>\n",
       "      <td>0</td>\n",
       "      <td>...</td>\n",
       "      <td>0</td>\n",
       "      <td>0</td>\n",
       "      <td>0</td>\n",
       "      <td>1</td>\n",
       "      <td>0</td>\n",
       "      <td>0</td>\n",
       "      <td>0</td>\n",
       "      <td>0</td>\n",
       "      <td>0</td>\n",
       "      <td>0</td>\n",
       "    </tr>\n",
       "    <tr>\n",
       "      <th>2</th>\n",
       "      <td>8995</td>\n",
       "      <td>6.0</td>\n",
       "      <td>178054.0</td>\n",
       "      <td>10</td>\n",
       "      <td>30.0</td>\n",
       "      <td>0</td>\n",
       "      <td>0</td>\n",
       "      <td>0</td>\n",
       "      <td>0</td>\n",
       "      <td>0</td>\n",
       "      <td>...</td>\n",
       "      <td>0</td>\n",
       "      <td>0</td>\n",
       "      <td>0</td>\n",
       "      <td>0</td>\n",
       "      <td>0</td>\n",
       "      <td>0</td>\n",
       "      <td>0</td>\n",
       "      <td>0</td>\n",
       "      <td>1</td>\n",
       "      <td>0</td>\n",
       "    </tr>\n",
       "    <tr>\n",
       "      <th>3</th>\n",
       "      <td>10995</td>\n",
       "      <td>6.0</td>\n",
       "      <td>170259.0</td>\n",
       "      <td>10</td>\n",
       "      <td>33.0</td>\n",
       "      <td>0</td>\n",
       "      <td>0</td>\n",
       "      <td>0</td>\n",
       "      <td>0</td>\n",
       "      <td>0</td>\n",
       "      <td>...</td>\n",
       "      <td>0</td>\n",
       "      <td>0</td>\n",
       "      <td>0</td>\n",
       "      <td>0</td>\n",
       "      <td>0</td>\n",
       "      <td>0</td>\n",
       "      <td>0</td>\n",
       "      <td>0</td>\n",
       "      <td>1</td>\n",
       "      <td>0</td>\n",
       "    </tr>\n",
       "    <tr>\n",
       "      <th>4</th>\n",
       "      <td>12995</td>\n",
       "      <td>6.0</td>\n",
       "      <td>309621.0</td>\n",
       "      <td>10</td>\n",
       "      <td>23.0</td>\n",
       "      <td>0</td>\n",
       "      <td>0</td>\n",
       "      <td>0</td>\n",
       "      <td>0</td>\n",
       "      <td>0</td>\n",
       "      <td>...</td>\n",
       "      <td>0</td>\n",
       "      <td>1</td>\n",
       "      <td>0</td>\n",
       "      <td>0</td>\n",
       "      <td>0</td>\n",
       "      <td>0</td>\n",
       "      <td>0</td>\n",
       "      <td>0</td>\n",
       "      <td>0</td>\n",
       "      <td>0</td>\n",
       "    </tr>\n",
       "  </tbody>\n",
       "</table>\n",
       "<p>5 rows × 85 columns</p>\n",
       "</div>"
      ],
      "text/plain": [
       "   price  cylinders  odometer  state  year_count  manufacturer_acura  \\\n",
       "0  13995        6.0  188406.0     10        31.0                   0   \n",
       "1   7995        4.0  108124.0     10        29.0                   0   \n",
       "2   8995        6.0  178054.0     10        30.0                   0   \n",
       "3  10995        6.0  170259.0     10        33.0                   0   \n",
       "4  12995        6.0  309621.0     10        23.0                   0   \n",
       "\n",
       "   manufacturer_alfa-romeo  manufacturer_audi  manufacturer_bmw  \\\n",
       "0                        0                  0                 0   \n",
       "1                        0                  0                 0   \n",
       "2                        0                  0                 0   \n",
       "3                        0                  0                 0   \n",
       "4                        0                  0                 0   \n",
       "\n",
       "   manufacturer_buick  ...  paint_color_brown  paint_color_custom  \\\n",
       "0                   0  ...                  0                   0   \n",
       "1                   0  ...                  0                   0   \n",
       "2                   0  ...                  0                   0   \n",
       "3                   0  ...                  0                   0   \n",
       "4                   0  ...                  0                   1   \n",
       "\n",
       "   paint_color_green  paint_color_grey  paint_color_orange  \\\n",
       "0                  0                 1                   0   \n",
       "1                  0                 1                   0   \n",
       "2                  0                 0                   0   \n",
       "3                  0                 0                   0   \n",
       "4                  0                 0                   0   \n",
       "\n",
       "   paint_color_purple  paint_color_red  paint_color_silver  paint_color_white  \\\n",
       "0                   0                0                   0                  0   \n",
       "1                   0                0                   0                  0   \n",
       "2                   0                0                   0                  1   \n",
       "3                   0                0                   0                  1   \n",
       "4                   0                0                   0                  0   \n",
       "\n",
       "   paint_color_yellow  \n",
       "0                   0  \n",
       "1                   0  \n",
       "2                   0  \n",
       "3                   0  \n",
       "4                   0  \n",
       "\n",
       "[5 rows x 85 columns]"
      ]
     },
     "execution_count": 46,
     "metadata": {},
     "output_type": "execute_result"
    }
   ],
   "source": [
    "df_dummy.head()"
   ]
  },
  {
   "cell_type": "code",
   "execution_count": 47,
   "metadata": {},
   "outputs": [
    {
     "data": {
      "text/plain": [
       "price                   int64\n",
       "cylinders             float64\n",
       "odometer              float64\n",
       "state                   int64\n",
       "year_count            float64\n",
       "                       ...   \n",
       "paint_color_purple      uint8\n",
       "paint_color_red         uint8\n",
       "paint_color_silver      uint8\n",
       "paint_color_white       uint8\n",
       "paint_color_yellow      uint8\n",
       "Length: 85, dtype: object"
      ]
     },
     "execution_count": 47,
     "metadata": {},
     "output_type": "execute_result"
    }
   ],
   "source": [
    "df_dummy.dtypes"
   ]
  },
  {
   "cell_type": "markdown",
   "metadata": {},
   "source": [
    "## Insight of the Price"
   ]
  },
  {
   "cell_type": "code",
   "execution_count": 48,
   "metadata": {},
   "outputs": [
    {
     "data": {
      "text/plain": [
       "6995     923\n",
       "7995     895\n",
       "8995     844\n",
       "3500     817\n",
       "5995     776\n",
       "        ... \n",
       "11745      1\n",
       "13794      1\n",
       "30186      1\n",
       "32235      1\n",
       "18441      1\n",
       "Name: price, Length: 7850, dtype: int64"
      ]
     },
     "execution_count": 48,
     "metadata": {},
     "output_type": "execute_result"
    }
   ],
   "source": [
    "df_dummy['price'].value_counts()"
   ]
  },
  {
   "cell_type": "code",
   "execution_count": 49,
   "metadata": {},
   "outputs": [
    {
     "name": "stdout",
     "output_type": "stream",
     "text": [
      "40712\n",
      "1050\n"
     ]
    }
   ],
   "source": [
    "print(df_dummy['price'].max())\n",
    "print(df_dummy['price'].min())"
   ]
  },
  {
   "cell_type": "markdown",
   "metadata": {},
   "source": [
    "-----\n",
    "# Model\n",
    "-----"
   ]
  },
  {
   "cell_type": "code",
   "execution_count": 50,
   "metadata": {},
   "outputs": [],
   "source": [
    "model_results = dict()\n",
    "model_names = ['Linear Regression', 'Extra Trees Regression', \n",
    "               'Bagging Regression', 'Ridge Regression', 'AdaBoost Regression', \n",
    "               'Decision Tree Regression']"
   ]
  },
  {
   "cell_type": "code",
   "execution_count": 51,
   "metadata": {},
   "outputs": [],
   "source": [
    "y = df_dummy['price']\n",
    "X = df_dummy.drop(columns=['price'])"
   ]
  },
  {
   "cell_type": "code",
   "execution_count": 52,
   "metadata": {},
   "outputs": [],
   "source": [
    "X_train, X_test, y_train, y_test = train_test_split(X, y, test_size=0.1, random_state=1, shuffle=True)"
   ]
  },
  {
   "cell_type": "code",
   "execution_count": 53,
   "metadata": {},
   "outputs": [
    {
     "data": {
      "text/plain": [
       "(74702, 8301)"
      ]
     },
     "execution_count": 53,
     "metadata": {},
     "output_type": "execute_result"
    }
   ],
   "source": [
    "len(X_train), len(X_test)"
   ]
  },
  {
   "cell_type": "code",
   "execution_count": 54,
   "metadata": {},
   "outputs": [],
   "source": [
    "def loss_MSE(y_true, y_pred):\n",
    "    return mean_squared_error(y_true, y_pred)**0.5\n",
    "\n",
    "\n",
    "# find whether our prediction is correct within a certain threshold\n",
    "def accuracy(y_true, y_pred, thresh=100):\n",
    "    return np.sum(np.where(abs(y_true-y_pred)<thresh, 1, 0)) / len(y_true)\n",
    "\n",
    "def acc_r2(y_true, y_pred):\n",
    "    return round(r2_score(y_true, y_pred) * 100, 2)\n",
    "\n",
    "def printResults(model, y_train, y_test, y_pred_train, y_pred_test, threshold):\n",
    "    mse_train = loss_MSE(y_train, y_pred_train)\n",
    "    mse_test = loss_MSE(y_test, y_pred_test)\n",
    "    acc_train = accuracy(y_train, y_pred_train, threshold)\n",
    "    acc_test = accuracy(y_test, y_pred_test, threshold)\n",
    "    r2_train = acc_r2(y_train, y_pred_train)\n",
    "    r2_test = acc_r2(y_test, y_pred_test)\n",
    "    # save results\n",
    "    model_results[model] = [mse_train, mse_test, acc_train, acc_test, r2_train, r2_test]\n",
    "    print(\"Loss MSE(Train): \", mse_train)\n",
    "    print(\"Loss MSE(Test): \", mse_test)\n",
    "    print(\"Accuracy with threshold =\", threshold, \"(Train):\", acc_train)\n",
    "    print(\"Accuracy with threshold =\", threshold, \"(Test):\", acc_test)\n",
    "    print(\"R2 Score(Train): \", r2_train)\n",
    "    print(\"R2 Score(Test): \", r2_test)"
   ]
  },
  {
   "cell_type": "code",
   "execution_count": 55,
   "metadata": {},
   "outputs": [],
   "source": [
    "threshold = 2000"
   ]
  },
  {
   "cell_type": "markdown",
   "metadata": {},
   "source": [
    "### Linear Regression"
   ]
  },
  {
   "cell_type": "code",
   "execution_count": 56,
   "metadata": {},
   "outputs": [
    {
     "data": {
      "text/plain": [
       "LinearRegression()"
      ]
     },
     "execution_count": 56,
     "metadata": {},
     "output_type": "execute_result"
    }
   ],
   "source": [
    "model_lr = LinearRegression()\n",
    "model_lr.fit(X_train, y_train)"
   ]
  },
  {
   "cell_type": "code",
   "execution_count": 57,
   "metadata": {},
   "outputs": [
    {
     "name": "stdout",
     "output_type": "stream",
     "text": [
      "Loss MSE(Train):  4543.158229081127\n",
      "Loss MSE(Test):  4528.010426508103\n",
      "Accuracy with threshold = 2000 (Train): 0.3974726245615914\n",
      "Accuracy with threshold = 2000 (Test): 0.41163715215034336\n",
      "R2 Score(Train):  74.41\n",
      "R2 Score(Test):  74.0\n"
     ]
    }
   ],
   "source": [
    "y_pred_train = model_lr.predict(X_train)\n",
    "y_pred_test = model_lr.predict(X_test)\n",
    "printResults(model_names[0], y_train, y_test, y_pred_train, y_pred_test, threshold)"
   ]
  },
  {
   "cell_type": "markdown",
   "metadata": {},
   "source": [
    "### Extra Trees Regression"
   ]
  },
  {
   "cell_type": "code",
   "execution_count": 58,
   "metadata": {},
   "outputs": [
    {
     "data": {
      "text/plain": [
       "ExtraTreesRegressor(max_depth=18)"
      ]
     },
     "execution_count": 58,
     "metadata": {},
     "output_type": "execute_result"
    }
   ],
   "source": [
    "model_etr = ExtraTreesRegressor(max_depth=18)\n",
    "# model_etr = ExtraTreesRegressor()\n",
    "model_etr.fit(X_train, y_train)"
   ]
  },
  {
   "cell_type": "code",
   "execution_count": 59,
   "metadata": {},
   "outputs": [
    {
     "name": "stdout",
     "output_type": "stream",
     "text": [
      "Loss MSE(Train):  1878.2874651951215\n",
      "Loss MSE(Test):  3083.06476107068\n",
      "Accuracy with threshold = 2000 (Train): 0.804891435302937\n",
      "Accuracy with threshold = 2000 (Test): 0.6520901096253463\n",
      "R2 Score(Train):  95.63\n",
      "R2 Score(Test):  87.95\n"
     ]
    }
   ],
   "source": [
    "y_pred_train = model_etr.predict(X_train)\n",
    "y_pred_test = model_etr.predict(X_test)\n",
    "printResults(model_names[1], y_train, y_test, y_pred_train, y_pred_test, threshold)"
   ]
  },
  {
   "cell_type": "markdown",
   "metadata": {},
   "source": [
    "### Bagging Regression"
   ]
  },
  {
   "cell_type": "code",
   "execution_count": 60,
   "metadata": {},
   "outputs": [
    {
     "data": {
      "text/plain": [
       "BaggingRegressor()"
      ]
     },
     "execution_count": 60,
     "metadata": {},
     "output_type": "execute_result"
    }
   ],
   "source": [
    "model_bagging = BaggingRegressor()\n",
    "model_bagging.fit(X_train, y_train)"
   ]
  },
  {
   "cell_type": "code",
   "execution_count": 61,
   "metadata": {},
   "outputs": [
    {
     "name": "stdout",
     "output_type": "stream",
     "text": [
      "Loss MSE(Train):  1349.5174620808073\n",
      "Loss MSE(Test):  3237.2480392014245\n",
      "Accuracy with threshold = 2000 (Train): 0.8988112768065112\n",
      "Accuracy with threshold = 2000 (Test): 0.646669076014938\n",
      "R2 Score(Train):  97.74\n",
      "R2 Score(Test):  86.71\n"
     ]
    }
   ],
   "source": [
    "y_pred_train = model_bagging.predict(X_train)\n",
    "y_pred_test = model_bagging.predict(X_test)\n",
    "printResults(model_names[2], y_train, y_test, y_pred_train, y_pred_test, threshold)"
   ]
  },
  {
   "cell_type": "markdown",
   "metadata": {},
   "source": [
    "### Ridge Regression"
   ]
  },
  {
   "cell_type": "code",
   "execution_count": 62,
   "metadata": {},
   "outputs": [
    {
     "data": {
      "text/plain": [
       "RidgeCV(alphas=array([ 0.1,  1. , 10. ]))"
      ]
     },
     "execution_count": 62,
     "metadata": {},
     "output_type": "execute_result"
    }
   ],
   "source": [
    "model_rcv = RidgeCV()\n",
    "model_rcv.fit(X_train, y_train)"
   ]
  },
  {
   "cell_type": "code",
   "execution_count": 63,
   "metadata": {},
   "outputs": [
    {
     "name": "stdout",
     "output_type": "stream",
     "text": [
      "Loss MSE(Train):  4551.93498012476\n",
      "Loss MSE(Test):  4535.607773274533\n",
      "Accuracy with threshold = 2000 (Train): 0.39909239377794437\n",
      "Accuracy with threshold = 2000 (Test): 0.41211902180460186\n",
      "R2 Score(Train):  74.31\n",
      "R2 Score(Test):  73.91\n"
     ]
    }
   ],
   "source": [
    "y_pred_train = model_rcv.predict(X_train)\n",
    "y_pred_test = model_rcv.predict(X_test)\n",
    "printResults(model_names[3], y_train, y_test, y_pred_train, y_pred_test, threshold)"
   ]
  },
  {
   "cell_type": "markdown",
   "metadata": {},
   "source": [
    "### AdaBoost Regression"
   ]
  },
  {
   "cell_type": "code",
   "execution_count": 64,
   "metadata": {},
   "outputs": [
    {
     "data": {
      "text/plain": [
       "AdaBoostRegressor()"
      ]
     },
     "execution_count": 64,
     "metadata": {},
     "output_type": "execute_result"
    }
   ],
   "source": [
    "model_adaboost = AdaBoostRegressor()\n",
    "model_adaboost.fit(X_train, y_train)"
   ]
  },
  {
   "cell_type": "code",
   "execution_count": 65,
   "metadata": {},
   "outputs": [
    {
     "name": "stdout",
     "output_type": "stream",
     "text": [
      "Loss MSE(Train):  5679.408341296735\n",
      "Loss MSE(Test):  5680.359646623177\n",
      "Accuracy with threshold = 2000 (Train): 0.19597868865626086\n",
      "Accuracy with threshold = 2000 (Test): 0.20455366823274304\n",
      "R2 Score(Train):  60.01\n",
      "R2 Score(Test):  59.08\n"
     ]
    }
   ],
   "source": [
    "y_pred_train = model_adaboost.predict(X_train)\n",
    "y_pred_test = model_adaboost.predict(X_test)\n",
    "printResults(model_names[4], y_train, y_test, y_pred_train, y_pred_test, threshold)"
   ]
  },
  {
   "cell_type": "markdown",
   "metadata": {},
   "source": [
    "### Decision Tree Regression"
   ]
  },
  {
   "cell_type": "code",
   "execution_count": 66,
   "metadata": {},
   "outputs": [
    {
     "data": {
      "text/plain": [
       "DecisionTreeRegressor(max_depth=15)"
      ]
     },
     "execution_count": 66,
     "metadata": {},
     "output_type": "execute_result"
    }
   ],
   "source": [
    "model_dt = DecisionTreeRegressor(max_depth=15)\n",
    "model_dt.fit(X_train, y_train)"
   ]
  },
  {
   "cell_type": "code",
   "execution_count": 67,
   "metadata": {},
   "outputs": [
    {
     "name": "stdout",
     "output_type": "stream",
     "text": [
      "Loss MSE(Train):  2681.7013428546065\n",
      "Loss MSE(Test):  3837.879988069226\n",
      "Accuracy with threshold = 2000 (Train): 0.6906910122888276\n",
      "Accuracy with threshold = 2000 (Test): 0.5854716299241055\n",
      "R2 Score(Train):  91.08\n",
      "R2 Score(Test):  81.32\n"
     ]
    }
   ],
   "source": [
    "y_pred_train = model_dt.predict(X_train)\n",
    "y_pred_test = model_dt.predict(X_test)\n",
    "printResults(model_names[5], y_train, y_test, y_pred_train, y_pred_test, threshold)"
   ]
  },
  {
   "cell_type": "markdown",
   "metadata": {},
   "source": [
    "## Comparison of models"
   ]
  },
  {
   "cell_type": "code",
   "execution_count": 68,
   "metadata": {},
   "outputs": [],
   "source": [
    "mse_train = []\n",
    "mse_test = []\n",
    "acc_train = []\n",
    "acc_test = []\n",
    "r2_train = []\n",
    "r2_test = []\n",
    "\n",
    "for name in model_names:\n",
    "    res = model_results[name]\n",
    "    mse_train.append(res[0])\n",
    "    mse_test.append(res[1])\n",
    "    acc_train.append(res[2])\n",
    "    acc_test.append(res[3])\n",
    "    r2_train.append(res[4])\n",
    "    r2_test.append(res[5])\n",
    "    \n",
    "models = pd.DataFrame({\n",
    "    'model': model_names,\n",
    "    'mse_train': mse_train,\n",
    "    'mse_test': mse_test,\n",
    "    'acc_train': acc_train,\n",
    "    'acc_test': acc_test,\n",
    "    'r2_train': r2_train,\n",
    "    'r2_test': r2_test\n",
    "                     })"
   ]
  },
  {
   "cell_type": "markdown",
   "metadata": {},
   "source": [
    "### Mean Square Error"
   ]
  },
  {
   "cell_type": "code",
   "execution_count": 69,
   "metadata": {},
   "outputs": [],
   "source": [
    "# plt.figure(figsize=[16,6])\n",
    "# xx = models['model']\n",
    "# plt.tick_params(labelsize=14)\n",
    "# plt.plot(xx, models['mse_train'], label = 'mse_train')\n",
    "# plt.plot(xx, models['mse_test'], label = 'mse_test')\n",
    "# plt.legend()\n",
    "# plt.title('Mean Square Error for 6 models on train and test set.')\n",
    "# plt.xlabel('Models')\n",
    "# plt.ylabel('MSE')\n",
    "# plt.xticks(xx, rotation='vertical')\n",
    "# plt.show()"
   ]
  },
  {
   "cell_type": "code",
   "execution_count": 70,
   "metadata": {},
   "outputs": [
    {
     "data": {
      "text/plain": [
       "(array([0, 1, 2, 3, 4, 5]),\n",
       " [Text(0, 0, 'Linear Regression'),\n",
       "  Text(1, 0, 'Extra Trees Regression'),\n",
       "  Text(2, 0, 'Bagging Regression'),\n",
       "  Text(3, 0, 'Ridge Regression'),\n",
       "  Text(4, 0, 'AdaBoost Regression'),\n",
       "  Text(5, 0, 'Decision Tree Regression')])"
      ]
     },
     "execution_count": 70,
     "metadata": {},
     "output_type": "execute_result"
    },
    {
     "data": {
      "image/png": "[encoded data removed]",
      "text/plain": [
       "<Figure size 432x288 with 1 Axes>"
      ]
     },
     "metadata": {
      "needs_background": "light"
     },
     "output_type": "display_data"
    }
   ],
   "source": [
    "# set_graph_text_color('white')\n",
    "models.set_index('model')[['mse_test','mse_train']].plot(kind='bar', grid=True, title='Mean Squared Error')\n",
    "# set_graph_text_color('black')\n",
    "plt.xticks(rotation=45)"
   ]
  },
  {
   "cell_type": "code",
   "execution_count": 71,
   "metadata": {},
   "outputs": [
    {
     "data": {
      "text/plain": [
       "(array([0, 1, 2, 3, 4, 5]),\n",
       " [Text(0, 0, 'Linear Regression'),\n",
       "  Text(1, 0, 'Extra Trees Regression'),\n",
       "  Text(2, 0, 'Bagging Regression'),\n",
       "  Text(3, 0, 'Ridge Regression'),\n",
       "  Text(4, 0, 'AdaBoost Regression'),\n",
       "  Text(5, 0, 'Decision Tree Regression')])"
      ]
     },
     "execution_count": 71,
     "metadata": {},
     "output_type": "execute_result"
    },
    {
     "data": {
      "image/png": "[encoded data removed]",
      "text/plain": [
       "<Figure size 432x288 with 1 Axes>"
      ]
     },
     "metadata": {
      "needs_background": "light"
     },
     "output_type": "display_data"
    }
   ],
   "source": [
    "# set_graph_text_color('white')\n",
    "models.set_index('model')[['acc_test','acc_train']].plot(kind='bar', grid=True, title='Accuracy with threshold=2000')\n",
    "set_graph_text_color('black')\n",
    "plt.xticks(rotation=45)"
   ]
  },
  {
   "cell_type": "code",
   "execution_count": 72,
   "metadata": {},
   "outputs": [
    {
     "data": {
      "text/plain": [
       "(array([0, 1, 2, 3, 4, 5]),\n",
       " [Text(0, 0, 'Linear Regression'),\n",
       "  Text(1, 0, 'Extra Trees Regression'),\n",
       "  Text(2, 0, 'Bagging Regression'),\n",
       "  Text(3, 0, 'Ridge Regression'),\n",
       "  Text(4, 0, 'AdaBoost Regression'),\n",
       "  Text(5, 0, 'Decision Tree Regression')])"
      ]
     },
     "execution_count": 72,
     "metadata": {},
     "output_type": "execute_result"
    },
    {
     "data": {
      "image/png": "[encoded data removed]",
      "text/plain": [
       "<Figure size 432x288 with 1 Axes>"
      ]
     },
     "metadata": {
      "needs_background": "light"
     },
     "output_type": "display_data"
    }
   ],
   "source": [
    "# set_graph_text_color('white')\n",
    "models.set_index('model')[['r2_test','r2_train']].plot(kind='bar', grid=True, title='R2 Score')\n",
    "set_graph_text_color('black')\n",
    "plt.xticks(rotation=45)"
   ]
  },
  {
   "cell_type": "markdown",
   "metadata": {},
   "source": [
    "### Accuracy with threshold"
   ]
  },
  {
   "cell_type": "code",
   "execution_count": 73,
   "metadata": {},
   "outputs": [],
   "source": [
    "# plt.figure(figsize=[16,6])\n",
    "# xx = models['model']\n",
    "# plt.tick_params(labelsize=14)\n",
    "# plt.plot(xx, models['acc_train'], label = 'acc_train')\n",
    "# plt.plot(xx, models['acc_test'], label = 'acc_test')\n",
    "# plt.legend()\n",
    "# plt.title('Accuracy with threshold ='+str(threshold)+'for 6 models on train and test set.')\n",
    "# plt.xlabel('Models')\n",
    "# plt.ylabel('Accuracy with threshold ='+str(threshold))\n",
    "# plt.xticks(xx, rotation='vertical')\n",
    "# plt.show()"
   ]
  },
  {
   "cell_type": "markdown",
   "metadata": {},
   "source": [
    "### R2 Score"
   ]
  },
  {
   "cell_type": "code",
   "execution_count": 74,
   "metadata": {},
   "outputs": [
    {
     "data": {
      "image/png": "[encoded data removed]",
      "text/plain": [
       "<Figure size 1152x432 with 1 Axes>"
      ]
     },
     "metadata": {
      "needs_background": "light"
     },
     "output_type": "display_data"
    }
   ],
   "source": [
    "plt.figure(figsize=[16,6])\n",
    "xx = models['model']\n",
    "plt.tick_params(labelsize=14)\n",
    "plt.plot(xx, models['r2_train'], label = 'r2_train')\n",
    "plt.plot(xx, models['r2_test'], label = 'r2_test')\n",
    "plt.legend()\n",
    "plt.title('R2 Score for 6 models on train and test set.')\n",
    "plt.xlabel('Models')\n",
    "plt.ylabel('R2 Score')\n",
    "plt.xticks(xx, rotation='vertical')\n",
    "plt.show()"
   ]
  },
  {
   "cell_type": "markdown",
   "metadata": {},
   "source": [
    "# Prediction"
   ]
  },
  {
   "cell_type": "markdown",
   "metadata": {},
   "source": [
    "From the results of the last section, we conclude that the Extra Trees Regression performs the best among the regression models.\n",
    "So in this part, we will choose to use it to perform the prediction."
   ]
  },
  {
   "cell_type": "code",
   "execution_count": 75,
   "metadata": {},
   "outputs": [
    {
     "ename": "NameError",
     "evalue": "name 'price_buckets' is not defined",
     "output_type": "error",
     "traceback": [
      "\u001b[0;31m---------------------------------------------------------------------------\u001b[0m",
      "\u001b[0;31mNameError\u001b[0m                                 Traceback (most recent call last)",
      "\u001b[0;32m<ipython-input-75-0d04561c9eb1>\u001b[0m in \u001b[0;36m<module>\u001b[0;34m\u001b[0m\n\u001b[1;32m      1\u001b[0m \u001b[0mused_car\u001b[0m \u001b[0;34m=\u001b[0m \u001b[0mpd\u001b[0m\u001b[0;34m.\u001b[0m\u001b[0mDataFrame\u001b[0m\u001b[0;34m(\u001b[0m\u001b[0;34m)\u001b[0m\u001b[0;34m.\u001b[0m\u001b[0mreindex_like\u001b[0m\u001b[0;34m(\u001b[0m\u001b[0mX_test\u001b[0m\u001b[0;34m)\u001b[0m\u001b[0;34m[\u001b[0m\u001b[0;34m:\u001b[0m\u001b[0;36m1\u001b[0m\u001b[0;34m]\u001b[0m\u001b[0;34m\u001b[0m\u001b[0;34m\u001b[0m\u001b[0m\n\u001b[1;32m      2\u001b[0m \u001b[0mused_car\u001b[0m\u001b[0;34m[\u001b[0m\u001b[0;34m'manufacturer'\u001b[0m\u001b[0;34m]\u001b[0m \u001b[0;34m=\u001b[0m \u001b[0;34m\"honda\"\u001b[0m\u001b[0;34m\u001b[0m\u001b[0;34m\u001b[0m\u001b[0m\n\u001b[0;32m----> 3\u001b[0;31m \u001b[0mused_car\u001b[0m\u001b[0;34m[\u001b[0m\u001b[0;34m'manufacturer'\u001b[0m\u001b[0;34m]\u001b[0m\u001b[0;34m.\u001b[0m\u001b[0mreplace\u001b[0m\u001b[0;34m(\u001b[0m\u001b[0mprice_buckets\u001b[0m\u001b[0;34m,\u001b[0m \u001b[0minplace\u001b[0m\u001b[0;34m=\u001b[0m\u001b[0;32mTrue\u001b[0m\u001b[0;34m)\u001b[0m\u001b[0;34m\u001b[0m\u001b[0;34m\u001b[0m\u001b[0m\n\u001b[0m\u001b[1;32m      4\u001b[0m \u001b[0mused_car\u001b[0m\u001b[0;34m[\u001b[0m\u001b[0;34m'cylinders'\u001b[0m\u001b[0;34m]\u001b[0m \u001b[0;34m=\u001b[0m \u001b[0;36m12.0\u001b[0m\u001b[0;34m\u001b[0m\u001b[0;34m\u001b[0m\u001b[0m\n\u001b[1;32m      5\u001b[0m \u001b[0mused_car\u001b[0m\u001b[0;34m[\u001b[0m\u001b[0;34m'odometer'\u001b[0m\u001b[0;34m]\u001b[0m \u001b[0;34m=\u001b[0m \u001b[0;36m100000.0\u001b[0m\u001b[0;34m\u001b[0m\u001b[0;34m\u001b[0m\u001b[0m\n",
      "\u001b[0;31mNameError\u001b[0m: name 'price_buckets' is not defined"
     ]
    }
   ],
   "source": [
    "used_car = pd.DataFrame().reindex_like(X_test)[:1]\n",
    "used_car['manufacturer'] = \"honda\"\n",
    "used_car['manufacturer'].replace(price_buckets, inplace=True)\n",
    "used_car['cylinders'] = 12.0\n",
    "used_car['odometer'] = 100000.0\n",
    "used_car['year_count'] = 2010-1980\n",
    "used_car['condition_excellent'] = 1\n",
    "used_car['condition_fair'] = 0\n",
    "used_car['condition_good'] = 0\n",
    "used_car['condition_like new'] = 0\n",
    "used_car['condition_new'] = 0\n",
    "used_car['condition_null'] = 0\n",
    "used_car['condition_salvage'] = 0\n",
    "used_car['fuel_diesel'] = 0\n",
    "used_car['fuel_electric'] = 0\n",
    "used_car['fuel_gas'] = 1\n",
    "used_car['fuel_hybrid'] = 0\n",
    "used_car['fuel_other'] = 0\n",
    "used_car['transmission_automatic'] = 1\n",
    "used_car['transmission_manual'] = 0\n",
    "used_car['transmission_other'] = 0\n",
    "used_car['drive_4wd'] = 0\n",
    "used_car['drive_fwd'] = 1\n",
    "used_car['drive_rwd'] = 0\n",
    "used_car['type_SUV'] = 0\n",
    "used_car['type_bus'] = 0\n",
    "used_car['type_convertible'] = 0\n",
    "used_car['type_coupe'] = 0\n",
    "used_car['type_hatchback'] = 0\n",
    "used_car['type_mini-van'] = 0\n",
    "used_car['type_offroad'] = 0\n",
    "used_car['type_other'] = 0\n",
    "used_car['type_pickup'] = 0\n",
    "used_car['type_sedan'] = 1\n",
    "used_car['type_truck'] = 0\n",
    "used_car['type_van'] = 0\n",
    "used_car['type_wagon'] = 0\n",
    "\n",
    "y_pred_test = model_etr.predict(used_car)\n",
    "print(\"Car's value:\", y_pred_test)"
   ]
  },
  {
   "cell_type": "code",
   "execution_count": null,
   "metadata": {},
   "outputs": [],
   "source": [
    "79, 65"
   ]
  }
 ],
 "metadata": {
  "kernelspec": {
   "display_name": "ece143",
   "language": "python",
   "name": "ece143"
  },
  "language_info": {
   "codemirror_mode": {
    "name": "ipython",
    "version": 3
   },
   "file_extension": ".py",
   "mimetype": "text/x-python",
   "name": "python",
   "nbconvert_exporter": "python",
   "pygments_lexer": "ipython3",
   "version": "3.6.12"
  }
 },
 "nbformat": 4,
 "nbformat_minor": 2
}
