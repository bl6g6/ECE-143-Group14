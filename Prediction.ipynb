{
 "cells": [
  {
   "cell_type": "markdown",
   "metadata": {},
   "source": [
    "## TODO\n",
    "1. fill \"null\" in condition based on the manufacturing year\n",
    "The easier way is to discard the data with null values.\n",
    "2. How should we handle states?\n",
    "Hard to do this part. We should remove states.\n",
    "3. What metrics do we want to calculate model performance? (r2 score, accuracy)\n",
    "I used r2 score, accuracy and mse to do the evaluation."
   ]
  },
  {
   "cell_type": "code",
   "execution_count": 1,
   "metadata": {},
   "outputs": [],
   "source": [
    "import numpy as np\n",
    "import pandas as pd\n",
    "\n",
    "from sklearn.preprocessing import LabelEncoder\n",
    "from sklearn.model_selection import train_test_split\n",
    "from sklearn.metrics import mean_squared_error\n",
    "from sklearn.linear_model import LinearRegression, SGDRegressor, RidgeCV, SGDRegressor\n",
    "from sklearn.ensemble import RandomForestClassifier, ExtraTreesRegressor, BaggingRegressor, AdaBoostRegressor\n",
    "from sklearn.tree import DecisionTreeRegressor\n",
    "from sklearn.neural_network import MLPRegressor\n",
    "from sklearn.metrics import r2_score\n",
    "import matplotlib.pyplot as plt\n",
    "\n",
    "%matplotlib inline"
   ]
  },
  {
   "cell_type": "code",
   "execution_count": 2,
   "metadata": {},
   "outputs": [],
   "source": [
    "df = pd.read_csv('cleaned_df_with_manufact.csv', keep_default_na=False)"
   ]
  },
  {
   "cell_type": "code",
   "execution_count": 3,
   "metadata": {},
   "outputs": [
    {
     "data": {
      "text/html": [
       "<div>\n",
       "<style scoped>\n",
       "    .dataframe tbody tr th:only-of-type {\n",
       "        vertical-align: middle;\n",
       "    }\n",
       "\n",
       "    .dataframe tbody tr th {\n",
       "        vertical-align: top;\n",
       "    }\n",
       "\n",
       "    .dataframe thead th {\n",
       "        text-align: right;\n",
       "    }\n",
       "</style>\n",
       "<table border=\"1\" class=\"dataframe\">\n",
       "  <thead>\n",
       "    <tr style=\"text-align: right;\">\n",
       "      <th></th>\n",
       "      <th>price</th>\n",
       "      <th>year</th>\n",
       "      <th>manufacturer</th>\n",
       "      <th>model</th>\n",
       "      <th>condition</th>\n",
       "      <th>cylinders</th>\n",
       "      <th>fuel</th>\n",
       "      <th>odometer</th>\n",
       "      <th>transmission</th>\n",
       "      <th>drive</th>\n",
       "      <th>type</th>\n",
       "      <th>paint_color</th>\n",
       "      <th>state</th>\n",
       "    </tr>\n",
       "  </thead>\n",
       "  <tbody>\n",
       "    <tr>\n",
       "      <th>0</th>\n",
       "      <td>13995</td>\n",
       "      <td>2012.0</td>\n",
       "      <td>ford</td>\n",
       "      <td>f-150</td>\n",
       "      <td>good</td>\n",
       "      <td>6 cylinders</td>\n",
       "      <td>gas</td>\n",
       "      <td>188406.0</td>\n",
       "      <td>automatic</td>\n",
       "      <td>4wd</td>\n",
       "      <td>truck</td>\n",
       "      <td>grey</td>\n",
       "      <td>mn</td>\n",
       "    </tr>\n",
       "    <tr>\n",
       "      <th>1</th>\n",
       "      <td>7995</td>\n",
       "      <td>2010.0</td>\n",
       "      <td>chevrolet</td>\n",
       "      <td>equinox</td>\n",
       "      <td>good</td>\n",
       "      <td>4 cylinders</td>\n",
       "      <td>gas</td>\n",
       "      <td>108124.0</td>\n",
       "      <td>automatic</td>\n",
       "      <td>4wd</td>\n",
       "      <td>SUV</td>\n",
       "      <td>grey</td>\n",
       "      <td>mn</td>\n",
       "    </tr>\n",
       "    <tr>\n",
       "      <th>2</th>\n",
       "      <td>8995</td>\n",
       "      <td>2011.0</td>\n",
       "      <td>chevrolet</td>\n",
       "      <td>traverse</td>\n",
       "      <td>good</td>\n",
       "      <td>6 cylinders</td>\n",
       "      <td>gas</td>\n",
       "      <td>178054.0</td>\n",
       "      <td>automatic</td>\n",
       "      <td>4wd</td>\n",
       "      <td>SUV</td>\n",
       "      <td>white</td>\n",
       "      <td>mn</td>\n",
       "    </tr>\n",
       "    <tr>\n",
       "      <th>3</th>\n",
       "      <td>10995</td>\n",
       "      <td>2014.0</td>\n",
       "      <td>ford</td>\n",
       "      <td>explorer</td>\n",
       "      <td>good</td>\n",
       "      <td>6 cylinders</td>\n",
       "      <td>gas</td>\n",
       "      <td>170259.0</td>\n",
       "      <td>automatic</td>\n",
       "      <td>4wd</td>\n",
       "      <td>SUV</td>\n",
       "      <td>white</td>\n",
       "      <td>mn</td>\n",
       "    </tr>\n",
       "    <tr>\n",
       "      <th>4</th>\n",
       "      <td>12995</td>\n",
       "      <td>2004.0</td>\n",
       "      <td>ram</td>\n",
       "      <td>2500</td>\n",
       "      <td>good</td>\n",
       "      <td>6 cylinders</td>\n",
       "      <td>diesel</td>\n",
       "      <td>309621.0</td>\n",
       "      <td>automatic</td>\n",
       "      <td>4wd</td>\n",
       "      <td>truck</td>\n",
       "      <td>custom</td>\n",
       "      <td>mn</td>\n",
       "    </tr>\n",
       "  </tbody>\n",
       "</table>\n",
       "</div>"
      ],
      "text/plain": [
       "   price    year manufacturer     model condition    cylinders    fuel  \\\n",
       "0  13995  2012.0         ford     f-150      good  6 cylinders     gas   \n",
       "1   7995  2010.0    chevrolet   equinox      good  4 cylinders     gas   \n",
       "2   8995  2011.0    chevrolet  traverse      good  6 cylinders     gas   \n",
       "3  10995  2014.0         ford  explorer      good  6 cylinders     gas   \n",
       "4  12995  2004.0          ram      2500      good  6 cylinders  diesel   \n",
       "\n",
       "   odometer transmission drive   type paint_color state  \n",
       "0  188406.0    automatic   4wd  truck        grey    mn  \n",
       "1  108124.0    automatic   4wd    SUV        grey    mn  \n",
       "2  178054.0    automatic   4wd    SUV       white    mn  \n",
       "3  170259.0    automatic   4wd    SUV       white    mn  \n",
       "4  309621.0    automatic   4wd  truck      custom    mn  "
      ]
     },
     "execution_count": 3,
     "metadata": {},
     "output_type": "execute_result"
    }
   ],
   "source": [
    "df.head()"
   ]
  },
  {
   "cell_type": "code",
   "execution_count": 4,
   "metadata": {},
   "outputs": [
    {
     "name": "stdout",
     "output_type": "stream",
     "text": [
      "price \t 0 \t 7850\n",
      "year \t 0 \t 41\n",
      "manufacturer \t 900 \t 37\n",
      "model \t 0 \t 1520\n",
      "condition \t 25416 \t 7\n",
      "cylinders \t 13387 \t 9\n",
      "fuel \t 0 \t 5\n",
      "odometer \t 0 \t 45314\n",
      "transmission \t 0 \t 3\n",
      "drive \t 0 \t 3\n",
      "type \t 0 \t 13\n",
      "paint_color \t 0 \t 12\n",
      "state \t 0 \t 51\n",
      "total samples:  83003\n"
     ]
    },
    {
     "name": "stderr",
     "output_type": "stream",
     "text": [
      "/Users/shane/anaconda3/lib/python3.7/site-packages/pandas/core/ops.py:1649: FutureWarning: elementwise comparison failed; returning scalar instead, but in the future will perform elementwise comparison\n",
      "  result = method(y)\n"
     ]
    }
   ],
   "source": [
    "for col in df.columns:\n",
    "    print(col, \"\\t\", len(df[df[col]==\"null\"]), \"\\t\", len(df[col].unique()))\n",
    "\n",
    "print(\"total samples: \", len(df))"
   ]
  },
  {
   "cell_type": "markdown",
   "metadata": {},
   "source": [
    "# Convert categorical features\n",
    "------"
   ]
  },
  {
   "cell_type": "code",
   "execution_count": 5,
   "metadata": {},
   "outputs": [],
   "source": [
    "# add all the columns you want to dummy/one hot\n",
    "onehot_these_columns = []\n",
    "delete_these_columns = []"
   ]
  },
  {
   "cell_type": "markdown",
   "metadata": {},
   "source": [
    "## Model"
   ]
  },
  {
   "cell_type": "code",
   "execution_count": 6,
   "metadata": {},
   "outputs": [],
   "source": [
    "len(df['model'].unique())\n",
    "delete_these_columns.append('model')"
   ]
  },
  {
   "cell_type": "markdown",
   "metadata": {},
   "source": [
    "## Manufacturer"
   ]
  },
  {
   "cell_type": "code",
   "execution_count": 7,
   "metadata": {},
   "outputs": [
    {
     "data": {
      "text/plain": [
       "array(['ford', 'chevrolet', 'ram', 'buick', 'nissan', 'hyundai', 'dodge',\n",
       "       'subaru', 'toyota', 'lexus', 'volvo', 'chrysler', 'jeep', 'acura',\n",
       "       'gmc', 'kia', 'honda', 'volkswagen', 'bmw', 'null', 'pontiac',\n",
       "       'cadillac', 'mazda', 'lincoln', 'saturn', 'fiat', 'audi',\n",
       "       'mercury', 'mercedes-benz', 'mini', 'mitsubishi', 'jaguar',\n",
       "       'infiniti', 'rover', 'tesla', 'land rover', 'alfa-romeo'],\n",
       "      dtype=object)"
      ]
     },
     "execution_count": 7,
     "metadata": {},
     "output_type": "execute_result"
    }
   ],
   "source": [
    "df['manufacturer'].unique()"
   ]
  },
  {
   "cell_type": "code",
   "execution_count": 8,
   "metadata": {},
   "outputs": [
    {
     "name": "stdout",
     "output_type": "stream",
     "text": [
      "{'acura': 2, 'alfa-romeo': 5, 'audi': 2, 'bmw': 2, 'buick': 2, 'cadillac': 2, 'chevrolet': 2, 'chrysler': 1, 'dodge': 2, 'fiat': 1, 'ford': 3, 'gmc': 3, 'honda': 2, 'hyundai': 2, 'infiniti': 2, 'jaguar': 2, 'jeep': 3, 'kia': 2, 'land rover': 2, 'lexus': 2, 'lincoln': 2, 'mazda': 1, 'mercedes-benz': 3, 'mercury': 0, 'mini': 1, 'mitsubishi': 1, 'nissan': 2, 'null': 3, 'pontiac': 1, 'ram': 4, 'rover': 3, 'saturn': 0, 'subaru': 2, 'tesla': 7, 'toyota': 2, 'volkswagen': 2, 'volvo': 1}\n"
     ]
    }
   ],
   "source": [
    "price_buckets = {}\n",
    "for k,v in dict(df.groupby(\"manufacturer\")['price'].mean()).items():\n",
    "    price_buckets[k] = int(v/5000)\n",
    "print(price_buckets)"
   ]
  },
  {
   "cell_type": "code",
   "execution_count": 9,
   "metadata": {},
   "outputs": [],
   "source": [
    "# onehot_these_columns.append(\"manufacturer\")\n",
    "df['manufacturer'].replace(price_buckets, inplace=True)"
   ]
  },
  {
   "cell_type": "code",
   "execution_count": 10,
   "metadata": {},
   "outputs": [
    {
     "data": {
      "text/plain": [
       "array([3, 2, 4, 1, 0, 7, 5])"
      ]
     },
     "execution_count": 10,
     "metadata": {},
     "output_type": "execute_result"
    }
   ],
   "source": [
    "df['manufacturer'].unique()"
   ]
  },
  {
   "cell_type": "markdown",
   "metadata": {},
   "source": [
    "## Condition"
   ]
  },
  {
   "cell_type": "code",
   "execution_count": 11,
   "metadata": {},
   "outputs": [
    {
     "data": {
      "text/plain": [
       "array(['good', 'fair', 'excellent', 'like new', 'null', 'new', 'salvage'],\n",
       "      dtype=object)"
      ]
     },
     "execution_count": 11,
     "metadata": {},
     "output_type": "execute_result"
    }
   ],
   "source": [
    "df['condition'].unique()"
   ]
  },
  {
   "cell_type": "code",
   "execution_count": 12,
   "metadata": {},
   "outputs": [
    {
     "data": {
      "text/plain": [
       "condition\n",
       "excellent    12296.954851\n",
       "fair          3464.130298\n",
       "good         11390.026245\n",
       "like new     15323.040108\n",
       "new          16837.903030\n",
       "null         17161.635623\n",
       "salvage       5569.265306\n",
       "Name: price, dtype: float64"
      ]
     },
     "execution_count": 12,
     "metadata": {},
     "output_type": "execute_result"
    }
   ],
   "source": [
    "df.groupby(\"condition\")['price'].mean()"
   ]
  },
  {
   "cell_type": "code",
   "execution_count": 13,
   "metadata": {},
   "outputs": [
    {
     "name": "stderr",
     "output_type": "stream",
     "text": [
      "/Users/shane/anaconda3/lib/python3.7/site-packages/pandas/plotting/_tools.py:307: MatplotlibDeprecationWarning: \n",
      "The rowNum attribute was deprecated in Matplotlib 3.2 and will be removed two minor releases later. Use ax.get_subplotspec().rowspan.start instead.\n",
      "  layout[ax.rowNum, ax.colNum] = ax.get_visible()\n",
      "/Users/shane/anaconda3/lib/python3.7/site-packages/pandas/plotting/_tools.py:307: MatplotlibDeprecationWarning: \n",
      "The colNum attribute was deprecated in Matplotlib 3.2 and will be removed two minor releases later. Use ax.get_subplotspec().colspan.start instead.\n",
      "  layout[ax.rowNum, ax.colNum] = ax.get_visible()\n",
      "/Users/shane/anaconda3/lib/python3.7/site-packages/pandas/plotting/_tools.py:313: MatplotlibDeprecationWarning: \n",
      "The rowNum attribute was deprecated in Matplotlib 3.2 and will be removed two minor releases later. Use ax.get_subplotspec().rowspan.start instead.\n",
      "  if not layout[ax.rowNum + 1, ax.colNum]:\n",
      "/Users/shane/anaconda3/lib/python3.7/site-packages/pandas/plotting/_tools.py:313: MatplotlibDeprecationWarning: \n",
      "The colNum attribute was deprecated in Matplotlib 3.2 and will be removed two minor releases later. Use ax.get_subplotspec().colspan.start instead.\n",
      "  if not layout[ax.rowNum + 1, ax.colNum]:\n"
     ]
    },
    {
     "data": {
      "text/plain": [
       "array([[<AxesSubplot:title={'center':'manufacturer'}>,\n",
       "        <AxesSubplot:title={'center':'odometer'}>],\n",
       "       [<AxesSubplot:title={'center':'price'}>,\n",
       "        <AxesSubplot:title={'center':'year'}>]], dtype=object)"
      ]
     },
     "execution_count": 13,
     "metadata": {},
     "output_type": "execute_result"
    },
    {
     "data": {
      "image/png": "[encoded data removed]",
      "text/plain": [
       "<Figure size 432x288 with 4 Axes>"
      ]
     },
     "metadata": {
      "needs_background": "light"
     },
     "output_type": "display_data"
    }
   ],
   "source": [
    "df[df['condition']==\"null\"].hist(bins=10)"
   ]
  },
  {
   "cell_type": "code",
   "execution_count": 14,
   "metadata": {},
   "outputs": [],
   "source": [
    "onehot_these_columns.append(\"condition\")"
   ]
  },
  {
   "cell_type": "markdown",
   "metadata": {},
   "source": [
    "## Cylinders"
   ]
  },
  {
   "cell_type": "code",
   "execution_count": 15,
   "metadata": {},
   "outputs": [
    {
     "data": {
      "text/plain": [
       "cylinders\n",
       "10 cylinders    14549.672986\n",
       "12 cylinders    10851.625000\n",
       "3 cylinders     11303.132812\n",
       "4 cylinders     10910.030387\n",
       "5 cylinders      6950.400327\n",
       "6 cylinders     13270.627364\n",
       "8 cylinders     16473.431071\n",
       "null            16542.824457\n",
       "other           13574.572650\n",
       "Name: price, dtype: float64"
      ]
     },
     "execution_count": 15,
     "metadata": {},
     "output_type": "execute_result"
    }
   ],
   "source": [
    "df.groupby(\"cylinders\")['price'].mean()"
   ]
  },
  {
   "cell_type": "markdown",
   "metadata": {},
   "source": [
    "We have seen previously that most of the cylinders are either 4,6,8 or \"null\". Looking only at these categories, it seems that the trend is more the cylinders, higher the cost. So it might make sense to convert these categories to numbers instead of one-hot. There are very few cars with ['other',10,12,3,5] cyliners. We can convert the numbered categories to corresponding numbers and treat others as null.\n",
    "\n",
    "\n",
    "\n",
    "**Other** *assign it the mean of all values* <br>\n",
    "**null** *assign it the mean of all values*"
   ]
  },
  {
   "cell_type": "code",
   "execution_count": 16,
   "metadata": {},
   "outputs": [
    {
     "data": {
      "text/plain": [
       "<AxesSubplot:>"
      ]
     },
     "execution_count": 16,
     "metadata": {},
     "output_type": "execute_result"
    },
    {
     "data": {
      "image/png": "[encoded data removed]",
      "text/plain": [
       "<Figure size 432x288 with 1 Axes>"
      ]
     },
     "metadata": {
      "needs_background": "light"
     },
     "output_type": "display_data"
    }
   ],
   "source": [
    "df[df['cylinders']==\"other\"]['price'].hist(bins=10)"
   ]
  },
  {
   "cell_type": "code",
   "execution_count": 17,
   "metadata": {},
   "outputs": [],
   "source": [
    "mean_cylinder = (4+6+8)/3\n",
    "\n",
    "replace_cylinders = {'3 cylinders':3, '4 cylinders':4, '5 cylinders':5, \n",
    "           '6 cylinders':6, '8 cylinders':8, '10 cylinders':10, \n",
    "           '12 cylinders':12, 'null':mean_cylinder, 'other':mean_cylinder}\n",
    "\n",
    "df['cylinders'].replace(replace_cylinders, inplace=True)"
   ]
  },
  {
   "cell_type": "code",
   "execution_count": 18,
   "metadata": {},
   "outputs": [
    {
     "data": {
      "text/plain": [
       "array([ 6.,  4.,  8.,  5.,  3., 10., 12.])"
      ]
     },
     "execution_count": 18,
     "metadata": {},
     "output_type": "execute_result"
    }
   ],
   "source": [
    "df['cylinders'].unique()"
   ]
  },
  {
   "cell_type": "markdown",
   "metadata": {},
   "source": [
    "## Fuel"
   ]
  },
  {
   "cell_type": "code",
   "execution_count": 19,
   "metadata": {},
   "outputs": [
    {
     "data": {
      "text/html": [
       "<div>\n",
       "<style scoped>\n",
       "    .dataframe tbody tr th:only-of-type {\n",
       "        vertical-align: middle;\n",
       "    }\n",
       "\n",
       "    .dataframe tbody tr th {\n",
       "        vertical-align: top;\n",
       "    }\n",
       "\n",
       "    .dataframe thead th {\n",
       "        text-align: right;\n",
       "    }\n",
       "</style>\n",
       "<table border=\"1\" class=\"dataframe\">\n",
       "  <thead>\n",
       "    <tr style=\"text-align: right;\">\n",
       "      <th></th>\n",
       "      <th>mean</th>\n",
       "      <th>count</th>\n",
       "    </tr>\n",
       "    <tr>\n",
       "      <th>fuel</th>\n",
       "      <th></th>\n",
       "      <th></th>\n",
       "    </tr>\n",
       "  </thead>\n",
       "  <tbody>\n",
       "    <tr>\n",
       "      <th>diesel</th>\n",
       "      <td>20854.858158</td>\n",
       "      <td>3941</td>\n",
       "    </tr>\n",
       "    <tr>\n",
       "      <th>electric</th>\n",
       "      <td>15166.683908</td>\n",
       "      <td>174</td>\n",
       "    </tr>\n",
       "    <tr>\n",
       "      <th>gas</th>\n",
       "      <td>13025.972290</td>\n",
       "      <td>75784</td>\n",
       "    </tr>\n",
       "    <tr>\n",
       "      <th>hybrid</th>\n",
       "      <td>11242.358569</td>\n",
       "      <td>1202</td>\n",
       "    </tr>\n",
       "    <tr>\n",
       "      <th>other</th>\n",
       "      <td>19159.013670</td>\n",
       "      <td>1902</td>\n",
       "    </tr>\n",
       "  </tbody>\n",
       "</table>\n",
       "</div>"
      ],
      "text/plain": [
       "                  mean  count\n",
       "fuel                         \n",
       "diesel    20854.858158   3941\n",
       "electric  15166.683908    174\n",
       "gas       13025.972290  75784\n",
       "hybrid    11242.358569   1202\n",
       "other     19159.013670   1902"
      ]
     },
     "execution_count": 19,
     "metadata": {},
     "output_type": "execute_result"
    }
   ],
   "source": [
    "df.groupby(\"fuel\")['price'].agg([('mean'),('count')])"
   ]
  },
  {
   "cell_type": "markdown",
   "metadata": {},
   "source": [
    "Since there are only 5 categories, we can convert this column to dummy (onehot)."
   ]
  },
  {
   "cell_type": "code",
   "execution_count": 20,
   "metadata": {},
   "outputs": [],
   "source": [
    "onehot_these_columns.append('fuel')"
   ]
  },
  {
   "cell_type": "markdown",
   "metadata": {},
   "source": [
    "## Transmission"
   ]
  },
  {
   "cell_type": "code",
   "execution_count": 21,
   "metadata": {},
   "outputs": [
    {
     "data": {
      "text/html": [
       "<div>\n",
       "<style scoped>\n",
       "    .dataframe tbody tr th:only-of-type {\n",
       "        vertical-align: middle;\n",
       "    }\n",
       "\n",
       "    .dataframe tbody tr th {\n",
       "        vertical-align: top;\n",
       "    }\n",
       "\n",
       "    .dataframe thead th {\n",
       "        text-align: right;\n",
       "    }\n",
       "</style>\n",
       "<table border=\"1\" class=\"dataframe\">\n",
       "  <thead>\n",
       "    <tr style=\"text-align: right;\">\n",
       "      <th></th>\n",
       "      <th>mean</th>\n",
       "      <th>count</th>\n",
       "    </tr>\n",
       "    <tr>\n",
       "      <th>transmission</th>\n",
       "      <th></th>\n",
       "      <th></th>\n",
       "    </tr>\n",
       "  </thead>\n",
       "  <tbody>\n",
       "    <tr>\n",
       "      <th>automatic</th>\n",
       "      <td>13406.896059</td>\n",
       "      <td>74927</td>\n",
       "    </tr>\n",
       "    <tr>\n",
       "      <th>manual</th>\n",
       "      <td>10966.174769</td>\n",
       "      <td>4875</td>\n",
       "    </tr>\n",
       "    <tr>\n",
       "      <th>other</th>\n",
       "      <td>19976.082162</td>\n",
       "      <td>3201</td>\n",
       "    </tr>\n",
       "  </tbody>\n",
       "</table>\n",
       "</div>"
      ],
      "text/plain": [
       "                      mean  count\n",
       "transmission                     \n",
       "automatic     13406.896059  74927\n",
       "manual        10966.174769   4875\n",
       "other         19976.082162   3201"
      ]
     },
     "execution_count": 21,
     "metadata": {},
     "output_type": "execute_result"
    }
   ],
   "source": [
    "df.groupby(\"transmission\")['price'].agg([('mean'),('count')])"
   ]
  },
  {
   "cell_type": "markdown",
   "metadata": {},
   "source": [
    "Since there are only 3 unique values, we should convert this to dummy(onehot)."
   ]
  },
  {
   "cell_type": "code",
   "execution_count": 22,
   "metadata": {},
   "outputs": [],
   "source": [
    "onehot_these_columns.append('transmission')"
   ]
  },
  {
   "cell_type": "markdown",
   "metadata": {},
   "source": [
    "## Drive"
   ]
  },
  {
   "cell_type": "code",
   "execution_count": 23,
   "metadata": {},
   "outputs": [
    {
     "data": {
      "text/html": [
       "<div>\n",
       "<style scoped>\n",
       "    .dataframe tbody tr th:only-of-type {\n",
       "        vertical-align: middle;\n",
       "    }\n",
       "\n",
       "    .dataframe tbody tr th {\n",
       "        vertical-align: top;\n",
       "    }\n",
       "\n",
       "    .dataframe thead th {\n",
       "        text-align: right;\n",
       "    }\n",
       "</style>\n",
       "<table border=\"1\" class=\"dataframe\">\n",
       "  <thead>\n",
       "    <tr style=\"text-align: right;\">\n",
       "      <th></th>\n",
       "      <th>mean</th>\n",
       "      <th>count</th>\n",
       "    </tr>\n",
       "    <tr>\n",
       "      <th>drive</th>\n",
       "      <th></th>\n",
       "      <th></th>\n",
       "    </tr>\n",
       "  </thead>\n",
       "  <tbody>\n",
       "    <tr>\n",
       "      <th>4wd</th>\n",
       "      <td>16590.406614</td>\n",
       "      <td>31841</td>\n",
       "    </tr>\n",
       "    <tr>\n",
       "      <th>fwd</th>\n",
       "      <td>10372.548913</td>\n",
       "      <td>38037</td>\n",
       "    </tr>\n",
       "    <tr>\n",
       "      <th>rwd</th>\n",
       "      <td>15173.048533</td>\n",
       "      <td>13125</td>\n",
       "    </tr>\n",
       "  </tbody>\n",
       "</table>\n",
       "</div>"
      ],
      "text/plain": [
       "               mean  count\n",
       "drive                     \n",
       "4wd    16590.406614  31841\n",
       "fwd    10372.548913  38037\n",
       "rwd    15173.048533  13125"
      ]
     },
     "execution_count": 23,
     "metadata": {},
     "output_type": "execute_result"
    }
   ],
   "source": [
    "df.groupby(\"drive\")['price'].agg([('mean'),('count')])"
   ]
  },
  {
   "cell_type": "markdown",
   "metadata": {},
   "source": [
    "Since there are only 3 unique values, we should convert this to dummy(onehot)."
   ]
  },
  {
   "cell_type": "code",
   "execution_count": 24,
   "metadata": {},
   "outputs": [],
   "source": [
    "onehot_these_columns.append('drive')"
   ]
  },
  {
   "cell_type": "markdown",
   "metadata": {},
   "source": [
    "## Type"
   ]
  },
  {
   "cell_type": "code",
   "execution_count": 25,
   "metadata": {},
   "outputs": [
    {
     "data": {
      "text/html": [
       "<div>\n",
       "<style scoped>\n",
       "    .dataframe tbody tr th:only-of-type {\n",
       "        vertical-align: middle;\n",
       "    }\n",
       "\n",
       "    .dataframe tbody tr th {\n",
       "        vertical-align: top;\n",
       "    }\n",
       "\n",
       "    .dataframe thead th {\n",
       "        text-align: right;\n",
       "    }\n",
       "</style>\n",
       "<table border=\"1\" class=\"dataframe\">\n",
       "  <thead>\n",
       "    <tr style=\"text-align: right;\">\n",
       "      <th></th>\n",
       "      <th>mean</th>\n",
       "      <th>count</th>\n",
       "    </tr>\n",
       "    <tr>\n",
       "      <th>type</th>\n",
       "      <th></th>\n",
       "      <th></th>\n",
       "    </tr>\n",
       "  </thead>\n",
       "  <tbody>\n",
       "    <tr>\n",
       "      <th>SUV</th>\n",
       "      <td>13817.498382</td>\n",
       "      <td>23799</td>\n",
       "    </tr>\n",
       "    <tr>\n",
       "      <th>bus</th>\n",
       "      <td>18051.030303</td>\n",
       "      <td>33</td>\n",
       "    </tr>\n",
       "    <tr>\n",
       "      <th>convertible</th>\n",
       "      <td>12887.358553</td>\n",
       "      <td>1520</td>\n",
       "    </tr>\n",
       "    <tr>\n",
       "      <th>coupe</th>\n",
       "      <td>15030.873151</td>\n",
       "      <td>3989</td>\n",
       "    </tr>\n",
       "    <tr>\n",
       "      <th>hatchback</th>\n",
       "      <td>8957.641141</td>\n",
       "      <td>3330</td>\n",
       "    </tr>\n",
       "    <tr>\n",
       "      <th>mini-van</th>\n",
       "      <td>9352.472274</td>\n",
       "      <td>2164</td>\n",
       "    </tr>\n",
       "    <tr>\n",
       "      <th>offroad</th>\n",
       "      <td>14647.139665</td>\n",
       "      <td>179</td>\n",
       "    </tr>\n",
       "    <tr>\n",
       "      <th>other</th>\n",
       "      <td>17443.189781</td>\n",
       "      <td>1644</td>\n",
       "    </tr>\n",
       "    <tr>\n",
       "      <th>pickup</th>\n",
       "      <td>20043.934753</td>\n",
       "      <td>7418</td>\n",
       "    </tr>\n",
       "    <tr>\n",
       "      <th>sedan</th>\n",
       "      <td>10106.792628</td>\n",
       "      <td>25177</td>\n",
       "    </tr>\n",
       "    <tr>\n",
       "      <th>truck</th>\n",
       "      <td>18861.383728</td>\n",
       "      <td>8235</td>\n",
       "    </tr>\n",
       "    <tr>\n",
       "      <th>van</th>\n",
       "      <td>14431.945551</td>\n",
       "      <td>2461</td>\n",
       "    </tr>\n",
       "    <tr>\n",
       "      <th>wagon</th>\n",
       "      <td>12313.523248</td>\n",
       "      <td>3054</td>\n",
       "    </tr>\n",
       "  </tbody>\n",
       "</table>\n",
       "</div>"
      ],
      "text/plain": [
       "                     mean  count\n",
       "type                            \n",
       "SUV          13817.498382  23799\n",
       "bus          18051.030303     33\n",
       "convertible  12887.358553   1520\n",
       "coupe        15030.873151   3989\n",
       "hatchback     8957.641141   3330\n",
       "mini-van      9352.472274   2164\n",
       "offroad      14647.139665    179\n",
       "other        17443.189781   1644\n",
       "pickup       20043.934753   7418\n",
       "sedan        10106.792628  25177\n",
       "truck        18861.383728   8235\n",
       "van          14431.945551   2461\n",
       "wagon        12313.523248   3054"
      ]
     },
     "execution_count": 25,
     "metadata": {},
     "output_type": "execute_result"
    }
   ],
   "source": [
    "df.groupby(\"type\")['price'].agg([('mean'),('count')])"
   ]
  },
  {
   "cell_type": "markdown",
   "metadata": {},
   "source": [
    "Since the price does fluctuate with the type of vehicle, this feature seems useful. Let's convert this to a dummy (onehot) as well."
   ]
  },
  {
   "cell_type": "code",
   "execution_count": 26,
   "metadata": {},
   "outputs": [],
   "source": [
    "onehot_these_columns.append('type')"
   ]
  },
  {
   "cell_type": "markdown",
   "metadata": {},
   "source": [
    "## Paint"
   ]
  },
  {
   "cell_type": "code",
   "execution_count": 27,
   "metadata": {},
   "outputs": [
    {
     "data": {
      "text/html": [
       "<div>\n",
       "<style scoped>\n",
       "    .dataframe tbody tr th:only-of-type {\n",
       "        vertical-align: middle;\n",
       "    }\n",
       "\n",
       "    .dataframe tbody tr th {\n",
       "        vertical-align: top;\n",
       "    }\n",
       "\n",
       "    .dataframe thead th {\n",
       "        text-align: right;\n",
       "    }\n",
       "</style>\n",
       "<table border=\"1\" class=\"dataframe\">\n",
       "  <thead>\n",
       "    <tr style=\"text-align: right;\">\n",
       "      <th></th>\n",
       "      <th>mean</th>\n",
       "      <th>count</th>\n",
       "    </tr>\n",
       "    <tr>\n",
       "      <th>paint_color</th>\n",
       "      <th></th>\n",
       "      <th></th>\n",
       "    </tr>\n",
       "  </thead>\n",
       "  <tbody>\n",
       "    <tr>\n",
       "      <th>black</th>\n",
       "      <td>14574.167654</td>\n",
       "      <td>15860</td>\n",
       "    </tr>\n",
       "    <tr>\n",
       "      <th>blue</th>\n",
       "      <td>11694.343485</td>\n",
       "      <td>8833</td>\n",
       "    </tr>\n",
       "    <tr>\n",
       "      <th>brown</th>\n",
       "      <td>10781.580084</td>\n",
       "      <td>1898</td>\n",
       "    </tr>\n",
       "    <tr>\n",
       "      <th>custom</th>\n",
       "      <td>14022.346578</td>\n",
       "      <td>3171</td>\n",
       "    </tr>\n",
       "    <tr>\n",
       "      <th>green</th>\n",
       "      <td>9246.564463</td>\n",
       "      <td>2133</td>\n",
       "    </tr>\n",
       "    <tr>\n",
       "      <th>grey</th>\n",
       "      <td>12753.835218</td>\n",
       "      <td>9376</td>\n",
       "    </tr>\n",
       "    <tr>\n",
       "      <th>orange</th>\n",
       "      <td>16363.644211</td>\n",
       "      <td>475</td>\n",
       "    </tr>\n",
       "    <tr>\n",
       "      <th>purple</th>\n",
       "      <td>9380.276151</td>\n",
       "      <td>239</td>\n",
       "    </tr>\n",
       "    <tr>\n",
       "      <th>red</th>\n",
       "      <td>12791.435066</td>\n",
       "      <td>8139</td>\n",
       "    </tr>\n",
       "    <tr>\n",
       "      <th>silver</th>\n",
       "      <td>12065.969166</td>\n",
       "      <td>13070</td>\n",
       "    </tr>\n",
       "    <tr>\n",
       "      <th>white</th>\n",
       "      <td>15749.695122</td>\n",
       "      <td>19270</td>\n",
       "    </tr>\n",
       "    <tr>\n",
       "      <th>yellow</th>\n",
       "      <td>14741.144712</td>\n",
       "      <td>539</td>\n",
       "    </tr>\n",
       "  </tbody>\n",
       "</table>\n",
       "</div>"
      ],
      "text/plain": [
       "                     mean  count\n",
       "paint_color                     \n",
       "black        14574.167654  15860\n",
       "blue         11694.343485   8833\n",
       "brown        10781.580084   1898\n",
       "custom       14022.346578   3171\n",
       "green         9246.564463   2133\n",
       "grey         12753.835218   9376\n",
       "orange       16363.644211    475\n",
       "purple        9380.276151    239\n",
       "red          12791.435066   8139\n",
       "silver       12065.969166  13070\n",
       "white        15749.695122  19270\n",
       "yellow       14741.144712    539"
      ]
     },
     "execution_count": 27,
     "metadata": {},
     "output_type": "execute_result"
    }
   ],
   "source": [
    "df.groupby(\"paint_color\")['price'].agg([('mean'),('count')])"
   ]
  },
  {
   "cell_type": "markdown",
   "metadata": {},
   "source": [
    "It looks like some colors are preferred over the others. Let's also convert this column to dummy(onehot)."
   ]
  },
  {
   "cell_type": "code",
   "execution_count": 28,
   "metadata": {},
   "outputs": [],
   "source": [
    "delete_these_columns.append('paint_color')"
   ]
  },
  {
   "cell_type": "markdown",
   "metadata": {},
   "source": [
    "## State"
   ]
  },
  {
   "cell_type": "code",
   "execution_count": 29,
   "metadata": {},
   "outputs": [
    {
     "data": {
      "text/html": [
       "<div>\n",
       "<style scoped>\n",
       "    .dataframe tbody tr th:only-of-type {\n",
       "        vertical-align: middle;\n",
       "    }\n",
       "\n",
       "    .dataframe tbody tr th {\n",
       "        vertical-align: top;\n",
       "    }\n",
       "\n",
       "    .dataframe thead th {\n",
       "        text-align: right;\n",
       "    }\n",
       "</style>\n",
       "<table border=\"1\" class=\"dataframe\">\n",
       "  <thead>\n",
       "    <tr style=\"text-align: right;\">\n",
       "      <th></th>\n",
       "      <th>mean</th>\n",
       "      <th>count</th>\n",
       "    </tr>\n",
       "    <tr>\n",
       "      <th>state</th>\n",
       "      <th></th>\n",
       "      <th></th>\n",
       "    </tr>\n",
       "  </thead>\n",
       "  <tbody>\n",
       "    <tr>\n",
       "      <th>ak</th>\n",
       "      <td>18272.636199</td>\n",
       "      <td>1105</td>\n",
       "    </tr>\n",
       "    <tr>\n",
       "      <th>al</th>\n",
       "      <td>14327.241065</td>\n",
       "      <td>1427</td>\n",
       "    </tr>\n",
       "    <tr>\n",
       "      <th>ar</th>\n",
       "      <td>14580.399110</td>\n",
       "      <td>674</td>\n",
       "    </tr>\n",
       "    <tr>\n",
       "      <th>az</th>\n",
       "      <td>12604.070473</td>\n",
       "      <td>1121</td>\n",
       "    </tr>\n",
       "    <tr>\n",
       "      <th>ca</th>\n",
       "      <td>14843.310898</td>\n",
       "      <td>6359</td>\n",
       "    </tr>\n",
       "    <tr>\n",
       "      <th>co</th>\n",
       "      <td>14102.405543</td>\n",
       "      <td>2562</td>\n",
       "    </tr>\n",
       "    <tr>\n",
       "      <th>ct</th>\n",
       "      <td>12361.484975</td>\n",
       "      <td>1198</td>\n",
       "    </tr>\n",
       "    <tr>\n",
       "      <th>dc</th>\n",
       "      <td>10564.535354</td>\n",
       "      <td>594</td>\n",
       "    </tr>\n",
       "    <tr>\n",
       "      <th>de</th>\n",
       "      <td>12961.556420</td>\n",
       "      <td>257</td>\n",
       "    </tr>\n",
       "    <tr>\n",
       "      <th>fl</th>\n",
       "      <td>13917.059077</td>\n",
       "      <td>5806</td>\n",
       "    </tr>\n",
       "    <tr>\n",
       "      <th>ga</th>\n",
       "      <td>13289.978550</td>\n",
       "      <td>979</td>\n",
       "    </tr>\n",
       "    <tr>\n",
       "      <th>hi</th>\n",
       "      <td>16001.342268</td>\n",
       "      <td>485</td>\n",
       "    </tr>\n",
       "    <tr>\n",
       "      <th>ia</th>\n",
       "      <td>12341.300728</td>\n",
       "      <td>2198</td>\n",
       "    </tr>\n",
       "    <tr>\n",
       "      <th>id</th>\n",
       "      <td>15804.723906</td>\n",
       "      <td>1782</td>\n",
       "    </tr>\n",
       "    <tr>\n",
       "      <th>il</th>\n",
       "      <td>11753.266421</td>\n",
       "      <td>1903</td>\n",
       "    </tr>\n",
       "    <tr>\n",
       "      <th>in</th>\n",
       "      <td>12486.414179</td>\n",
       "      <td>1608</td>\n",
       "    </tr>\n",
       "    <tr>\n",
       "      <th>ks</th>\n",
       "      <td>12504.031555</td>\n",
       "      <td>1331</td>\n",
       "    </tr>\n",
       "    <tr>\n",
       "      <th>ky</th>\n",
       "      <td>13836.608724</td>\n",
       "      <td>1536</td>\n",
       "    </tr>\n",
       "    <tr>\n",
       "      <th>la</th>\n",
       "      <td>12977.616943</td>\n",
       "      <td>543</td>\n",
       "    </tr>\n",
       "    <tr>\n",
       "      <th>ma</th>\n",
       "      <td>12442.517127</td>\n",
       "      <td>1810</td>\n",
       "    </tr>\n",
       "    <tr>\n",
       "      <th>md</th>\n",
       "      <td>12705.338998</td>\n",
       "      <td>1118</td>\n",
       "    </tr>\n",
       "    <tr>\n",
       "      <th>me</th>\n",
       "      <td>14293.295848</td>\n",
       "      <td>578</td>\n",
       "    </tr>\n",
       "    <tr>\n",
       "      <th>mi</th>\n",
       "      <td>14804.059832</td>\n",
       "      <td>3209</td>\n",
       "    </tr>\n",
       "    <tr>\n",
       "      <th>mn</th>\n",
       "      <td>10932.005498</td>\n",
       "      <td>1637</td>\n",
       "    </tr>\n",
       "    <tr>\n",
       "      <th>mo</th>\n",
       "      <td>12927.930723</td>\n",
       "      <td>996</td>\n",
       "    </tr>\n",
       "    <tr>\n",
       "      <th>ms</th>\n",
       "      <td>13825.661290</td>\n",
       "      <td>310</td>\n",
       "    </tr>\n",
       "    <tr>\n",
       "      <th>mt</th>\n",
       "      <td>15042.074580</td>\n",
       "      <td>952</td>\n",
       "    </tr>\n",
       "    <tr>\n",
       "      <th>nc</th>\n",
       "      <td>13302.330407</td>\n",
       "      <td>2848</td>\n",
       "    </tr>\n",
       "    <tr>\n",
       "      <th>nd</th>\n",
       "      <td>14674.969325</td>\n",
       "      <td>163</td>\n",
       "    </tr>\n",
       "    <tr>\n",
       "      <th>ne</th>\n",
       "      <td>12930.320186</td>\n",
       "      <td>431</td>\n",
       "    </tr>\n",
       "    <tr>\n",
       "      <th>nh</th>\n",
       "      <td>14963.148773</td>\n",
       "      <td>652</td>\n",
       "    </tr>\n",
       "    <tr>\n",
       "      <th>nj</th>\n",
       "      <td>10028.359068</td>\n",
       "      <td>2189</td>\n",
       "    </tr>\n",
       "    <tr>\n",
       "      <th>nm</th>\n",
       "      <td>13303.195157</td>\n",
       "      <td>702</td>\n",
       "    </tr>\n",
       "    <tr>\n",
       "      <th>nv</th>\n",
       "      <td>15332.426136</td>\n",
       "      <td>880</td>\n",
       "    </tr>\n",
       "    <tr>\n",
       "      <th>ny</th>\n",
       "      <td>12599.560569</td>\n",
       "      <td>3657</td>\n",
       "    </tr>\n",
       "    <tr>\n",
       "      <th>oh</th>\n",
       "      <td>12131.137767</td>\n",
       "      <td>3985</td>\n",
       "    </tr>\n",
       "    <tr>\n",
       "      <th>ok</th>\n",
       "      <td>13237.122634</td>\n",
       "      <td>1215</td>\n",
       "    </tr>\n",
       "    <tr>\n",
       "      <th>or</th>\n",
       "      <td>13605.965366</td>\n",
       "      <td>2050</td>\n",
       "    </tr>\n",
       "    <tr>\n",
       "      <th>pa</th>\n",
       "      <td>11128.381918</td>\n",
       "      <td>2909</td>\n",
       "    </tr>\n",
       "    <tr>\n",
       "      <th>ri</th>\n",
       "      <td>12282.813740</td>\n",
       "      <td>655</td>\n",
       "    </tr>\n",
       "    <tr>\n",
       "      <th>sc</th>\n",
       "      <td>12985.434898</td>\n",
       "      <td>1129</td>\n",
       "    </tr>\n",
       "    <tr>\n",
       "      <th>sd</th>\n",
       "      <td>13550.284698</td>\n",
       "      <td>281</td>\n",
       "    </tr>\n",
       "    <tr>\n",
       "      <th>tn</th>\n",
       "      <td>14412.909807</td>\n",
       "      <td>2794</td>\n",
       "    </tr>\n",
       "    <tr>\n",
       "      <th>tx</th>\n",
       "      <td>15503.892019</td>\n",
       "      <td>4047</td>\n",
       "    </tr>\n",
       "    <tr>\n",
       "      <th>ut</th>\n",
       "      <td>13617.637931</td>\n",
       "      <td>232</td>\n",
       "    </tr>\n",
       "    <tr>\n",
       "      <th>va</th>\n",
       "      <td>11554.834590</td>\n",
       "      <td>2255</td>\n",
       "    </tr>\n",
       "    <tr>\n",
       "      <th>vt</th>\n",
       "      <td>14473.113905</td>\n",
       "      <td>676</td>\n",
       "    </tr>\n",
       "    <tr>\n",
       "      <th>wa</th>\n",
       "      <td>18519.010095</td>\n",
       "      <td>1585</td>\n",
       "    </tr>\n",
       "    <tr>\n",
       "      <th>wi</th>\n",
       "      <td>12704.094118</td>\n",
       "      <td>3145</td>\n",
       "    </tr>\n",
       "    <tr>\n",
       "      <th>wv</th>\n",
       "      <td>15815.030612</td>\n",
       "      <td>196</td>\n",
       "    </tr>\n",
       "    <tr>\n",
       "      <th>wy</th>\n",
       "      <td>16877.188755</td>\n",
       "      <td>249</td>\n",
       "    </tr>\n",
       "  </tbody>\n",
       "</table>\n",
       "</div>"
      ],
      "text/plain": [
       "               mean  count\n",
       "state                     \n",
       "ak     18272.636199   1105\n",
       "al     14327.241065   1427\n",
       "ar     14580.399110    674\n",
       "az     12604.070473   1121\n",
       "ca     14843.310898   6359\n",
       "co     14102.405543   2562\n",
       "ct     12361.484975   1198\n",
       "dc     10564.535354    594\n",
       "de     12961.556420    257\n",
       "fl     13917.059077   5806\n",
       "ga     13289.978550    979\n",
       "hi     16001.342268    485\n",
       "ia     12341.300728   2198\n",
       "id     15804.723906   1782\n",
       "il     11753.266421   1903\n",
       "in     12486.414179   1608\n",
       "ks     12504.031555   1331\n",
       "ky     13836.608724   1536\n",
       "la     12977.616943    543\n",
       "ma     12442.517127   1810\n",
       "md     12705.338998   1118\n",
       "me     14293.295848    578\n",
       "mi     14804.059832   3209\n",
       "mn     10932.005498   1637\n",
       "mo     12927.930723    996\n",
       "ms     13825.661290    310\n",
       "mt     15042.074580    952\n",
       "nc     13302.330407   2848\n",
       "nd     14674.969325    163\n",
       "ne     12930.320186    431\n",
       "nh     14963.148773    652\n",
       "nj     10028.359068   2189\n",
       "nm     13303.195157    702\n",
       "nv     15332.426136    880\n",
       "ny     12599.560569   3657\n",
       "oh     12131.137767   3985\n",
       "ok     13237.122634   1215\n",
       "or     13605.965366   2050\n",
       "pa     11128.381918   2909\n",
       "ri     12282.813740    655\n",
       "sc     12985.434898   1129\n",
       "sd     13550.284698    281\n",
       "tn     14412.909807   2794\n",
       "tx     15503.892019   4047\n",
       "ut     13617.637931    232\n",
       "va     11554.834590   2255\n",
       "vt     14473.113905    676\n",
       "wa     18519.010095   1585\n",
       "wi     12704.094118   3145\n",
       "wv     15815.030612    196\n",
       "wy     16877.188755    249"
      ]
     },
     "execution_count": 29,
     "metadata": {},
     "output_type": "execute_result"
    }
   ],
   "source": [
    "df.groupby(\"state\")['price'].agg([('mean'),('count')])"
   ]
  },
  {
   "cell_type": "markdown",
   "metadata": {},
   "source": [
    "The prices of the used cars vary from one state to another. But it is hard to tell if it will play an important role in building the model for now."
   ]
  },
  {
   "cell_type": "code",
   "execution_count": 30,
   "metadata": {},
   "outputs": [],
   "source": [
    "delete_these_columns.append('state')"
   ]
  },
  {
   "cell_type": "markdown",
   "metadata": {},
   "source": [
    "## Year"
   ]
  },
  {
   "cell_type": "code",
   "execution_count": 31,
   "metadata": {},
   "outputs": [
    {
     "data": {
      "text/plain": [
       "count    83003.000000\n",
       "mean      2011.128610\n",
       "std          5.800385\n",
       "min       1981.000000\n",
       "25%       2007.000000\n",
       "50%       2012.000000\n",
       "75%       2016.000000\n",
       "max       2021.000000\n",
       "Name: year, dtype: float64"
      ]
     },
     "execution_count": 31,
     "metadata": {},
     "output_type": "execute_result"
    }
   ],
   "source": [
    "df['year'].describe()"
   ]
  },
  {
   "cell_type": "code",
   "execution_count": 32,
   "metadata": {},
   "outputs": [],
   "source": [
    "df['year_count'] = df['year']-1980\n",
    "delete_these_columns.append('year')"
   ]
  },
  {
   "cell_type": "code",
   "execution_count": 33,
   "metadata": {},
   "outputs": [
    {
     "data": {
      "text/plain": [
       "<AxesSubplot:xlabel='year'>"
      ]
     },
     "execution_count": 33,
     "metadata": {},
     "output_type": "execute_result"
    },
    {
     "data": {
      "image/png": "[encoded data removed]",
      "text/plain": [
       "<Figure size 432x288 with 1 Axes>"
      ]
     },
     "metadata": {
      "needs_background": "light"
     },
     "output_type": "display_data"
    }
   ],
   "source": [
    "df.groupby('year')['price'].agg([('mean'),('count')]).plot()"
   ]
  },
  {
   "cell_type": "markdown",
   "metadata": {},
   "source": [
    "## Correlations"
   ]
  },
  {
   "cell_type": "code",
   "execution_count": 34,
   "metadata": {},
   "outputs": [
    {
     "data": {
      "image/png": "[encoded data removed]",
      "text/plain": [
       "<Figure size 720x720 with 2 Axes>"
      ]
     },
     "metadata": {
      "needs_background": "light"
     },
     "output_type": "display_data"
    }
   ],
   "source": [
    "corr_matrix= df.corr()\n",
    "fig_cor, axes_cor = plt.subplots(1,1)\n",
    "fig_cor.set_size_inches(10, 10)\n",
    "\n",
    "labels = df.select_dtypes(include=np.number).columns.tolist()\n",
    "\n",
    "myimage = axes_cor.imshow(corr_matrix)\n",
    "\n",
    "plt.colorbar(myimage)\n",
    "\n",
    "axes_cor.set_xticks(np.arange(0,corr_matrix.shape[0], corr_matrix.shape[0]*1.0/len(labels)))\n",
    "axes_cor.set_yticks(np.arange(0,corr_matrix.shape[1], corr_matrix.shape[1]*1.0/len(labels)))\n",
    "\n",
    "axes_cor.set_xticklabels(labels)\n",
    "axes_cor.set_yticklabels(labels)\n",
    "\n",
    "plt.draw()"
   ]
  },
  {
   "cell_type": "markdown",
   "metadata": {},
   "source": [
    "## Convert to onehot/dummy"
   ]
  },
  {
   "cell_type": "code",
   "execution_count": 35,
   "metadata": {},
   "outputs": [
    {
     "name": "stdout",
     "output_type": "stream",
     "text": [
      "We want to convert these columns into onehot:\n",
      " ['condition', 'fuel', 'transmission', 'drive', 'type']\n"
     ]
    }
   ],
   "source": [
    "print(\"We want to convert these columns into onehot:\\n\", onehot_these_columns)\n"
   ]
  },
  {
   "cell_type": "code",
   "execution_count": 36,
   "metadata": {},
   "outputs": [],
   "source": [
    "df_dummy = pd.get_dummies(df, columns=onehot_these_columns)"
   ]
  },
  {
   "cell_type": "markdown",
   "metadata": {},
   "source": [
    "## Drop columns"
   ]
  },
  {
   "cell_type": "code",
   "execution_count": 37,
   "metadata": {},
   "outputs": [],
   "source": [
    "df_dummy.drop(columns=delete_these_columns, axis=1, inplace=True)"
   ]
  },
  {
   "cell_type": "code",
   "execution_count": 38,
   "metadata": {},
   "outputs": [
    {
     "data": {
      "text/html": [
       "<div>\n",
       "<style scoped>\n",
       "    .dataframe tbody tr th:only-of-type {\n",
       "        vertical-align: middle;\n",
       "    }\n",
       "\n",
       "    .dataframe tbody tr th {\n",
       "        vertical-align: top;\n",
       "    }\n",
       "\n",
       "    .dataframe thead th {\n",
       "        text-align: right;\n",
       "    }\n",
       "</style>\n",
       "<table border=\"1\" class=\"dataframe\">\n",
       "  <thead>\n",
       "    <tr style=\"text-align: right;\">\n",
       "      <th></th>\n",
       "      <th>price</th>\n",
       "      <th>manufacturer</th>\n",
       "      <th>cylinders</th>\n",
       "      <th>odometer</th>\n",
       "      <th>year_count</th>\n",
       "      <th>condition_excellent</th>\n",
       "      <th>condition_fair</th>\n",
       "      <th>condition_good</th>\n",
       "      <th>condition_like new</th>\n",
       "      <th>condition_new</th>\n",
       "      <th>...</th>\n",
       "      <th>type_coupe</th>\n",
       "      <th>type_hatchback</th>\n",
       "      <th>type_mini-van</th>\n",
       "      <th>type_offroad</th>\n",
       "      <th>type_other</th>\n",
       "      <th>type_pickup</th>\n",
       "      <th>type_sedan</th>\n",
       "      <th>type_truck</th>\n",
       "      <th>type_van</th>\n",
       "      <th>type_wagon</th>\n",
       "    </tr>\n",
       "  </thead>\n",
       "  <tbody>\n",
       "    <tr>\n",
       "      <th>0</th>\n",
       "      <td>13995</td>\n",
       "      <td>3</td>\n",
       "      <td>6.0</td>\n",
       "      <td>188406.0</td>\n",
       "      <td>32.0</td>\n",
       "      <td>0</td>\n",
       "      <td>0</td>\n",
       "      <td>1</td>\n",
       "      <td>0</td>\n",
       "      <td>0</td>\n",
       "      <td>...</td>\n",
       "      <td>0</td>\n",
       "      <td>0</td>\n",
       "      <td>0</td>\n",
       "      <td>0</td>\n",
       "      <td>0</td>\n",
       "      <td>0</td>\n",
       "      <td>0</td>\n",
       "      <td>1</td>\n",
       "      <td>0</td>\n",
       "      <td>0</td>\n",
       "    </tr>\n",
       "    <tr>\n",
       "      <th>1</th>\n",
       "      <td>7995</td>\n",
       "      <td>2</td>\n",
       "      <td>4.0</td>\n",
       "      <td>108124.0</td>\n",
       "      <td>30.0</td>\n",
       "      <td>0</td>\n",
       "      <td>0</td>\n",
       "      <td>1</td>\n",
       "      <td>0</td>\n",
       "      <td>0</td>\n",
       "      <td>...</td>\n",
       "      <td>0</td>\n",
       "      <td>0</td>\n",
       "      <td>0</td>\n",
       "      <td>0</td>\n",
       "      <td>0</td>\n",
       "      <td>0</td>\n",
       "      <td>0</td>\n",
       "      <td>0</td>\n",
       "      <td>0</td>\n",
       "      <td>0</td>\n",
       "    </tr>\n",
       "    <tr>\n",
       "      <th>2</th>\n",
       "      <td>8995</td>\n",
       "      <td>2</td>\n",
       "      <td>6.0</td>\n",
       "      <td>178054.0</td>\n",
       "      <td>31.0</td>\n",
       "      <td>0</td>\n",
       "      <td>0</td>\n",
       "      <td>1</td>\n",
       "      <td>0</td>\n",
       "      <td>0</td>\n",
       "      <td>...</td>\n",
       "      <td>0</td>\n",
       "      <td>0</td>\n",
       "      <td>0</td>\n",
       "      <td>0</td>\n",
       "      <td>0</td>\n",
       "      <td>0</td>\n",
       "      <td>0</td>\n",
       "      <td>0</td>\n",
       "      <td>0</td>\n",
       "      <td>0</td>\n",
       "    </tr>\n",
       "    <tr>\n",
       "      <th>3</th>\n",
       "      <td>10995</td>\n",
       "      <td>3</td>\n",
       "      <td>6.0</td>\n",
       "      <td>170259.0</td>\n",
       "      <td>34.0</td>\n",
       "      <td>0</td>\n",
       "      <td>0</td>\n",
       "      <td>1</td>\n",
       "      <td>0</td>\n",
       "      <td>0</td>\n",
       "      <td>...</td>\n",
       "      <td>0</td>\n",
       "      <td>0</td>\n",
       "      <td>0</td>\n",
       "      <td>0</td>\n",
       "      <td>0</td>\n",
       "      <td>0</td>\n",
       "      <td>0</td>\n",
       "      <td>0</td>\n",
       "      <td>0</td>\n",
       "      <td>0</td>\n",
       "    </tr>\n",
       "    <tr>\n",
       "      <th>4</th>\n",
       "      <td>12995</td>\n",
       "      <td>4</td>\n",
       "      <td>6.0</td>\n",
       "      <td>309621.0</td>\n",
       "      <td>24.0</td>\n",
       "      <td>0</td>\n",
       "      <td>0</td>\n",
       "      <td>1</td>\n",
       "      <td>0</td>\n",
       "      <td>0</td>\n",
       "      <td>...</td>\n",
       "      <td>0</td>\n",
       "      <td>0</td>\n",
       "      <td>0</td>\n",
       "      <td>0</td>\n",
       "      <td>0</td>\n",
       "      <td>0</td>\n",
       "      <td>0</td>\n",
       "      <td>1</td>\n",
       "      <td>0</td>\n",
       "      <td>0</td>\n",
       "    </tr>\n",
       "  </tbody>\n",
       "</table>\n",
       "<p>5 rows × 36 columns</p>\n",
       "</div>"
      ],
      "text/plain": [
       "   price  manufacturer  cylinders  odometer  year_count  condition_excellent  \\\n",
       "0  13995             3        6.0  188406.0        32.0                    0   \n",
       "1   7995             2        4.0  108124.0        30.0                    0   \n",
       "2   8995             2        6.0  178054.0        31.0                    0   \n",
       "3  10995             3        6.0  170259.0        34.0                    0   \n",
       "4  12995             4        6.0  309621.0        24.0                    0   \n",
       "\n",
       "   condition_fair  condition_good  condition_like new  condition_new  ...  \\\n",
       "0               0               1                   0              0  ...   \n",
       "1               0               1                   0              0  ...   \n",
       "2               0               1                   0              0  ...   \n",
       "3               0               1                   0              0  ...   \n",
       "4               0               1                   0              0  ...   \n",
       "\n",
       "   type_coupe  type_hatchback  type_mini-van  type_offroad  type_other  \\\n",
       "0           0               0              0             0           0   \n",
       "1           0               0              0             0           0   \n",
       "2           0               0              0             0           0   \n",
       "3           0               0              0             0           0   \n",
       "4           0               0              0             0           0   \n",
       "\n",
       "   type_pickup  type_sedan  type_truck  type_van  type_wagon  \n",
       "0            0           0           1         0           0  \n",
       "1            0           0           0         0           0  \n",
       "2            0           0           0         0           0  \n",
       "3            0           0           0         0           0  \n",
       "4            0           0           1         0           0  \n",
       "\n",
       "[5 rows x 36 columns]"
      ]
     },
     "execution_count": 38,
     "metadata": {},
     "output_type": "execute_result"
    }
   ],
   "source": [
    "df_dummy.head()"
   ]
  },
  {
   "cell_type": "code",
   "execution_count": 39,
   "metadata": {},
   "outputs": [
    {
     "data": {
      "text/plain": [
       "price                       int64\n",
       "manufacturer                int64\n",
       "cylinders                 float64\n",
       "odometer                  float64\n",
       "year_count                float64\n",
       "condition_excellent         uint8\n",
       "condition_fair              uint8\n",
       "condition_good              uint8\n",
       "condition_like new          uint8\n",
       "condition_new               uint8\n",
       "condition_null              uint8\n",
       "condition_salvage           uint8\n",
       "fuel_diesel                 uint8\n",
       "fuel_electric               uint8\n",
       "fuel_gas                    uint8\n",
       "fuel_hybrid                 uint8\n",
       "fuel_other                  uint8\n",
       "transmission_automatic      uint8\n",
       "transmission_manual         uint8\n",
       "transmission_other          uint8\n",
       "drive_4wd                   uint8\n",
       "drive_fwd                   uint8\n",
       "drive_rwd                   uint8\n",
       "type_SUV                    uint8\n",
       "type_bus                    uint8\n",
       "type_convertible            uint8\n",
       "type_coupe                  uint8\n",
       "type_hatchback              uint8\n",
       "type_mini-van               uint8\n",
       "type_offroad                uint8\n",
       "type_other                  uint8\n",
       "type_pickup                 uint8\n",
       "type_sedan                  uint8\n",
       "type_truck                  uint8\n",
       "type_van                    uint8\n",
       "type_wagon                  uint8\n",
       "dtype: object"
      ]
     },
     "execution_count": 39,
     "metadata": {},
     "output_type": "execute_result"
    }
   ],
   "source": [
    "df_dummy.dtypes"
   ]
  },
  {
   "cell_type": "markdown",
   "metadata": {},
   "source": [
    "## Insight of the Price"
   ]
  },
  {
   "cell_type": "code",
   "execution_count": 40,
   "metadata": {},
   "outputs": [
    {
     "data": {
      "text/plain": [
       "6995     923\n",
       "7995     895\n",
       "8995     844\n",
       "3500     817\n",
       "5995     776\n",
       "4500     774\n",
       "9995     766\n",
       "6500     726\n",
       "5500     725\n",
       "10995    697\n",
       "2500     625\n",
       "7500     614\n",
       "4995     608\n",
       "12995    606\n",
       "14995    584\n",
       "11995    581\n",
       "5000     573\n",
       "13995    561\n",
       "8500     514\n",
       "3000     502\n",
       "4000     480\n",
       "15995    462\n",
       "3995     457\n",
       "16995    456\n",
       "6000     440\n",
       "9500     429\n",
       "19995    422\n",
       "2000     418\n",
       "12500    415\n",
       "7000     410\n",
       "        ... \n",
       "26600      1\n",
       "28649      1\n",
       "20461      1\n",
       "10272      1\n",
       "8225       1\n",
       "18476      1\n",
       "8289       1\n",
       "9824       1\n",
       "15907      1\n",
       "39799      1\n",
       "13602      1\n",
       "35765      1\n",
       "19501      1\n",
       "23663      1\n",
       "33908      1\n",
       "35957      1\n",
       "25768      1\n",
       "19629      1\n",
       "29930      1\n",
       "15651      1\n",
       "19949      1\n",
       "34100      1\n",
       "19821      1\n",
       "15779      1\n",
       "21934      1\n",
       "11745      1\n",
       "13794      1\n",
       "30186      1\n",
       "32235      1\n",
       "18441      1\n",
       "Name: price, Length: 7850, dtype: int64"
      ]
     },
     "execution_count": 40,
     "metadata": {},
     "output_type": "execute_result"
    }
   ],
   "source": [
    "df_dummy['price'].value_counts()"
   ]
  },
  {
   "cell_type": "code",
   "execution_count": 41,
   "metadata": {},
   "outputs": [
    {
     "name": "stdout",
     "output_type": "stream",
     "text": [
      "40712\n",
      "1050\n"
     ]
    }
   ],
   "source": [
    "print(df_dummy['price'].max())\n",
    "print(df_dummy['price'].min())"
   ]
  },
  {
   "cell_type": "markdown",
   "metadata": {},
   "source": [
    "-----\n",
    "# Model\n",
    "-----"
   ]
  },
  {
   "cell_type": "code",
   "execution_count": 42,
   "metadata": {},
   "outputs": [],
   "source": [
    "model_results = dict()\n",
    "model_names = ['Linear Regression', 'Extra Trees Regression', \n",
    "               'Bagging Regression', 'Ridge Regression', 'AdaBoost Regression', \n",
    "               'Decision Tree Regression']"
   ]
  },
  {
   "cell_type": "code",
   "execution_count": 43,
   "metadata": {},
   "outputs": [],
   "source": [
    "y = df_dummy['price']\n",
    "X = df_dummy.drop(columns=['price'])"
   ]
  },
  {
   "cell_type": "code",
   "execution_count": 44,
   "metadata": {},
   "outputs": [],
   "source": [
    "X_train, X_test, y_train, y_test = train_test_split(X, y, test_size=0.1, random_state=1, shuffle=True)"
   ]
  },
  {
   "cell_type": "code",
   "execution_count": 45,
   "metadata": {},
   "outputs": [
    {
     "data": {
      "text/plain": [
       "(74702, 8301)"
      ]
     },
     "execution_count": 45,
     "metadata": {},
     "output_type": "execute_result"
    }
   ],
   "source": [
    "len(X_train), len(X_test)"
   ]
  },
  {
   "cell_type": "code",
   "execution_count": 46,
   "metadata": {},
   "outputs": [],
   "source": [
    "def loss_MSE(y_true, y_pred):\n",
    "    return mean_squared_error(y_true, y_pred)**0.5\n",
    "\n",
    "\n",
    "# find whether our prediction is correct within a certain threshold\n",
    "def accuracy(y_true, y_pred, thresh=100):\n",
    "    return np.sum(np.where(abs(y_true-y_pred)<thresh, 1, 0)) / len(y_true)\n",
    "\n",
    "def acc_r2(y_true, y_pred):\n",
    "    return round(r2_score(y_true, y_pred) * 100, 2)\n",
    "\n",
    "def printResults(model, y_train, y_test, y_pred_train, y_pred_test, threshold):\n",
    "    mse_train = loss_MSE(y_train, y_pred_train)\n",
    "    mse_test = loss_MSE(y_test, y_pred_test)\n",
    "    acc_train = accuracy(y_train, y_pred_train, threshold)\n",
    "    acc_test = accuracy(y_test, y_pred_test, threshold)\n",
    "    r2_train = acc_r2(y_train, y_pred_train)\n",
    "    r2_test = acc_r2(y_test, y_pred_test)\n",
    "    # save results\n",
    "    model_results[model] = [mse_train, mse_test, acc_train, acc_test, r2_train, r2_test]\n",
    "    print(\"Loss MSE(Train): \", mse_train)\n",
    "    print(\"Loss MSE(Test): \", mse_test)\n",
    "    print(\"Accuracy with threshold =\", threshold, \"(Train):\", acc_train)\n",
    "    print(\"Accuracy with threshold =\", threshold, \"(Test):\", acc_test)\n",
    "    print(\"R2 Score(Train): \", r2_train)\n",
    "    print(\"R2 Score(Test): \", r2_test)"
   ]
  },
  {
   "cell_type": "code",
   "execution_count": 47,
   "metadata": {},
   "outputs": [],
   "source": [
    "threshold = 2000"
   ]
  },
  {
   "cell_type": "markdown",
   "metadata": {},
   "source": [
    "### Linear Regression"
   ]
  },
  {
   "cell_type": "code",
   "execution_count": 48,
   "metadata": {},
   "outputs": [
    {
     "data": {
      "text/plain": [
       "LinearRegression()"
      ]
     },
     "execution_count": 48,
     "metadata": {},
     "output_type": "execute_result"
    }
   ],
   "source": [
    "model_lr = LinearRegression()\n",
    "model_lr.fit(X_train, y_train)"
   ]
  },
  {
   "cell_type": "code",
   "execution_count": 49,
   "metadata": {},
   "outputs": [
    {
     "name": "stdout",
     "output_type": "stream",
     "text": [
      "Loss MSE(Train):  4783.264646427145\n",
      "Loss MSE(Test):  4772.13863856898\n",
      "Accuracy with threshold = 2000 (Train): 0.37102085620197583\n",
      "Accuracy with threshold = 2000 (Test): 0.37609926514877723\n",
      "R2 Score(Train):  71.63\n",
      "R2 Score(Test):  71.12\n"
     ]
    }
   ],
   "source": [
    "y_pred_train = model_lr.predict(X_train)\n",
    "y_pred_test = model_lr.predict(X_test)\n",
    "printResults(model_names[0], y_train, y_test, y_pred_train, y_pred_test, threshold)"
   ]
  },
  {
   "cell_type": "markdown",
   "metadata": {},
   "source": [
    "### Extra Trees Regression"
   ]
  },
  {
   "cell_type": "code",
   "execution_count": 50,
   "metadata": {},
   "outputs": [
    {
     "data": {
      "text/plain": [
       "ExtraTreesRegressor()"
      ]
     },
     "execution_count": 50,
     "metadata": {},
     "output_type": "execute_result"
    }
   ],
   "source": [
    "model_etr = ExtraTreesRegressor()\n",
    "model_etr.fit(X_train, y_train)"
   ]
  },
  {
   "cell_type": "code",
   "execution_count": 51,
   "metadata": {},
   "outputs": [
    {
     "name": "stdout",
     "output_type": "stream",
     "text": [
      "Loss MSE(Train):  279.5790616683741\n",
      "Loss MSE(Test):  3669.2525730188163\n",
      "Accuracy with threshold = 2000 (Train): 0.99649273111831\n",
      "Accuracy with threshold = 2000 (Test): 0.6104083845319841\n",
      "R2 Score(Train):  99.9\n",
      "R2 Score(Test):  82.93\n"
     ]
    }
   ],
   "source": [
    "y_pred_train = model_etr.predict(X_train)\n",
    "y_pred_test = model_etr.predict(X_test)\n",
    "printResults(model_names[1], y_train, y_test, y_pred_train, y_pred_test, threshold)"
   ]
  },
  {
   "cell_type": "markdown",
   "metadata": {},
   "source": [
    "### Bagging Regression"
   ]
  },
  {
   "cell_type": "code",
   "execution_count": 52,
   "metadata": {},
   "outputs": [
    {
     "data": {
      "text/plain": [
       "BaggingRegressor()"
      ]
     },
     "execution_count": 52,
     "metadata": {},
     "output_type": "execute_result"
    }
   ],
   "source": [
    "model_bagging = BaggingRegressor()\n",
    "model_bagging.fit(X_train, y_train)"
   ]
  },
  {
   "cell_type": "code",
   "execution_count": 53,
   "metadata": {},
   "outputs": [
    {
     "name": "stdout",
     "output_type": "stream",
     "text": [
      "Loss MSE(Train):  1537.0969144801593\n",
      "Loss MSE(Test):  3590.5702096196965\n",
      "Accuracy with threshold = 2000 (Train): 0.8664158924794517\n",
      "Accuracy with threshold = 2000 (Test): 0.5896879893988676\n",
      "R2 Score(Train):  97.07\n",
      "R2 Score(Test):  83.65\n"
     ]
    }
   ],
   "source": [
    "y_pred_train = model_bagging.predict(X_train)\n",
    "y_pred_test = model_bagging.predict(X_test)\n",
    "printResults(model_names[2], y_train, y_test, y_pred_train, y_pred_test, threshold)"
   ]
  },
  {
   "cell_type": "markdown",
   "metadata": {},
   "source": [
    "### Ridge Regression"
   ]
  },
  {
   "cell_type": "code",
   "execution_count": 54,
   "metadata": {},
   "outputs": [
    {
     "data": {
      "text/plain": [
       "RidgeCV(alphas=array([ 0.1,  1. , 10. ]))"
      ]
     },
     "execution_count": 54,
     "metadata": {},
     "output_type": "execute_result"
    }
   ],
   "source": [
    "model_rcv = RidgeCV()\n",
    "model_rcv.fit(X_train, y_train)"
   ]
  },
  {
   "cell_type": "code",
   "execution_count": 55,
   "metadata": {},
   "outputs": [
    {
     "name": "stdout",
     "output_type": "stream",
     "text": [
      "Loss MSE(Train):  4783.71804028512\n",
      "Loss MSE(Test):  4773.1203770752945\n",
      "Accuracy with threshold = 2000 (Train): 0.3705657144387031\n",
      "Accuracy with threshold = 2000 (Test): 0.3774244066979882\n",
      "R2 Score(Train):  71.63\n",
      "R2 Score(Test):  71.11\n"
     ]
    }
   ],
   "source": [
    "y_pred_train = model_rcv.predict(X_train)\n",
    "y_pred_test = model_rcv.predict(X_test)\n",
    "printResults(model_names[3], y_train, y_test, y_pred_train, y_pred_test, threshold)"
   ]
  },
  {
   "cell_type": "markdown",
   "metadata": {},
   "source": [
    "### AdaBoost Regression"
   ]
  },
  {
   "cell_type": "code",
   "execution_count": 56,
   "metadata": {},
   "outputs": [
    {
     "data": {
      "text/plain": [
       "AdaBoostRegressor()"
      ]
     },
     "execution_count": 56,
     "metadata": {},
     "output_type": "execute_result"
    }
   ],
   "source": [
    "model_adaboost = AdaBoostRegressor()\n",
    "model_adaboost.fit(X_train, y_train)"
   ]
  },
  {
   "cell_type": "code",
   "execution_count": 57,
   "metadata": {},
   "outputs": [
    {
     "name": "stdout",
     "output_type": "stream",
     "text": [
      "Loss MSE(Train):  5328.234068980364\n",
      "Loss MSE(Test):  5315.306356725578\n",
      "Accuracy with threshold = 2000 (Train): 0.23430430242831518\n",
      "Accuracy with threshold = 2000 (Test): 0.24527165401758824\n",
      "R2 Score(Train):  64.8\n",
      "R2 Score(Test):  64.17\n"
     ]
    }
   ],
   "source": [
    "y_pred_train = model_adaboost.predict(X_train)\n",
    "y_pred_test = model_adaboost.predict(X_test)\n",
    "printResults(model_names[4], y_train, y_test, y_pred_train, y_pred_test, threshold)"
   ]
  },
  {
   "cell_type": "markdown",
   "metadata": {},
   "source": [
    "### Decision Tree Regression"
   ]
  },
  {
   "cell_type": "code",
   "execution_count": 58,
   "metadata": {},
   "outputs": [
    {
     "data": {
      "text/plain": [
       "DecisionTreeRegressor()"
      ]
     },
     "execution_count": 58,
     "metadata": {},
     "output_type": "execute_result"
    }
   ],
   "source": [
    "model_dt = DecisionTreeRegressor()\n",
    "model_dt.fit(X_train, y_train)"
   ]
  },
  {
   "cell_type": "code",
   "execution_count": 59,
   "metadata": {},
   "outputs": [
    {
     "name": "stdout",
     "output_type": "stream",
     "text": [
      "Loss MSE(Train):  279.13551237335696\n",
      "Loss MSE(Test):  4534.738817575615\n",
      "Accuracy with threshold = 2000 (Train): 0.9965061176407592\n",
      "Accuracy with threshold = 2000 (Test): 0.5464401879291652\n",
      "R2 Score(Train):  99.9\n",
      "R2 Score(Test):  73.92\n"
     ]
    }
   ],
   "source": [
    "y_pred_train = model_dt.predict(X_train)\n",
    "y_pred_test = model_dt.predict(X_test)\n",
    "printResults(model_names[5], y_train, y_test, y_pred_train, y_pred_test, threshold)"
   ]
  },
  {
   "cell_type": "markdown",
   "metadata": {},
   "source": [
    "## Comparison of models"
   ]
  },
  {
   "cell_type": "code",
   "execution_count": 60,
   "metadata": {},
   "outputs": [],
   "source": [
    "mse_train = []\n",
    "mse_test = []\n",
    "acc_train = []\n",
    "acc_test = []\n",
    "r2_train = []\n",
    "r2_test = []\n",
    "\n",
    "for name in model_names:\n",
    "    res = model_results[name]\n",
    "    mse_train.append(res[0])\n",
    "    mse_test.append(res[1])\n",
    "    acc_train.append(res[2])\n",
    "    acc_test.append(res[3])\n",
    "    r2_train.append(res[4])\n",
    "    r2_test.append(res[5])\n",
    "    \n",
    "models = pd.DataFrame({\n",
    "    'model': model_names,\n",
    "    'mse_train': mse_train,\n",
    "    'mse_test': mse_test,\n",
    "    'acc_train': acc_train,\n",
    "    'acc_test': acc_test,\n",
    "    'r2_train': r2_train,\n",
    "    'r2_test': r2_test\n",
    "                     })"
   ]
  },
  {
   "cell_type": "markdown",
   "metadata": {},
   "source": [
    "### Mean Square Error"
   ]
  },
  {
   "cell_type": "code",
   "execution_count": 61,
   "metadata": {},
   "outputs": [
    {
     "data": {
      "image/png": "[encoded data removed]",
      "text/plain": [
       "<Figure size 1152x432 with 1 Axes>"
      ]
     },
     "metadata": {
      "needs_background": "light"
     },
     "output_type": "display_data"
    }
   ],
   "source": [
    "plt.figure(figsize=[16,6])\n",
    "xx = models['model']\n",
    "plt.tick_params(labelsize=14)\n",
    "plt.plot(xx, models['mse_train'], label = 'mse_train')\n",
    "plt.plot(xx, models['mse_test'], label = 'mse_test')\n",
    "plt.legend()\n",
    "plt.title('Mean Square Error for 6 models on train and test set.')\n",
    "plt.xlabel('Models')\n",
    "plt.ylabel('MSE')\n",
    "plt.xticks(xx, rotation='vertical')\n",
    "plt.show()"
   ]
  },
  {
   "cell_type": "markdown",
   "metadata": {},
   "source": [
    "### Accuracy with threshold"
   ]
  },
  {
   "cell_type": "code",
   "execution_count": 62,
   "metadata": {},
   "outputs": [
    {
     "data": {
      "image/png": "[encoded data removed]",
      "text/plain": [
       "<Figure size 1152x432 with 1 Axes>"
      ]
     },
     "metadata": {
      "needs_background": "light"
     },
     "output_type": "display_data"
    }
   ],
   "source": [
    "plt.figure(figsize=[16,6])\n",
    "xx = models['model']\n",
    "plt.tick_params(labelsize=14)\n",
    "plt.plot(xx, models['acc_train'], label = 'acc_train')\n",
    "plt.plot(xx, models['acc_test'], label = 'acc_test')\n",
    "plt.legend()\n",
    "plt.title('Accuracy with threshold ='+str(threshold)+'for 6 models on train and test set.')\n",
    "plt.xlabel('Models')\n",
    "plt.ylabel('Accuracy with threshold ='+str(threshold))\n",
    "plt.xticks(xx, rotation='vertical')\n",
    "plt.show()"
   ]
  },
  {
   "cell_type": "markdown",
   "metadata": {},
   "source": [
    "### R2 Score"
   ]
  },
  {
   "cell_type": "code",
   "execution_count": 63,
   "metadata": {},
   "outputs": [
    {
     "data": {
      "image/png": "[encoded data removed]",
      "text/plain": [
       "<Figure size 1152x432 with 1 Axes>"
      ]
     },
     "metadata": {
      "needs_background": "light"
     },
     "output_type": "display_data"
    }
   ],
   "source": [
    "plt.figure(figsize=[16,6])\n",
    "xx = models['model']\n",
    "plt.tick_params(labelsize=14)\n",
    "plt.plot(xx, models['r2_train'], label = 'r2_train')\n",
    "plt.plot(xx, models['r2_test'], label = 'r2_test')\n",
    "plt.legend()\n",
    "plt.title('R2 Score for 6 models on train and test set.')\n",
    "plt.xlabel('Models')\n",
    "plt.ylabel('R2 Score')\n",
    "plt.xticks(xx, rotation='vertical')\n",
    "plt.show()"
   ]
  },
  {
   "cell_type": "markdown",
   "metadata": {},
   "source": [
    "# Prediction"
   ]
  },
  {
   "cell_type": "markdown",
   "metadata": {},
   "source": [
    "From the results of the last section, we conclude that the Extra Trees Regression performs the best among the regression models.\n",
    "So in this part, we will choose to use it to perform the prediction."
   ]
  },
  {
   "cell_type": "code",
   "execution_count": 64,
   "metadata": {},
   "outputs": [
    {
     "name": "stdout",
     "output_type": "stream",
     "text": [
      "Car's value: [8205.1]\n"
     ]
    }
   ],
   "source": [
    "used_car = pd.DataFrame().reindex_like(X_test)[:1]\n",
    "used_car['manufacturer'] = \"honda\"\n",
    "used_car['manufacturer'].replace(price_buckets, inplace=True)\n",
    "used_car['cylinders'] = 12.0\n",
    "used_car['odometer'] = 100000.0\n",
    "used_car['year_count'] = 2010-1980\n",
    "used_car['condition_excellent'] = 1\n",
    "used_car['condition_fair'] = 0\n",
    "used_car['condition_good'] = 0\n",
    "used_car['condition_like new'] = 0\n",
    "used_car['condition_new'] = 0\n",
    "used_car['condition_null'] = 0\n",
    "used_car['condition_salvage'] = 0\n",
    "used_car['fuel_diesel'] = 0\n",
    "used_car['fuel_electric'] = 0\n",
    "used_car['fuel_gas'] = 1\n",
    "used_car['fuel_hybrid'] = 0\n",
    "used_car['fuel_other'] = 0\n",
    "used_car['transmission_automatic'] = 1\n",
    "used_car['transmission_manual'] = 0\n",
    "used_car['transmission_other'] = 0\n",
    "used_car['drive_4wd'] = 0\n",
    "used_car['drive_fwd'] = 1\n",
    "used_car['drive_rwd'] = 0\n",
    "used_car['type_SUV'] = 0\n",
    "used_car['type_bus'] = 0\n",
    "used_car['type_convertible'] = 0\n",
    "used_car['type_coupe'] = 0\n",
    "used_car['type_hatchback'] = 0\n",
    "used_car['type_mini-van'] = 0\n",
    "used_car['type_offroad'] = 0\n",
    "used_car['type_other'] = 0\n",
    "used_car['type_pickup'] = 0\n",
    "used_car['type_sedan'] = 1\n",
    "used_car['type_truck'] = 0\n",
    "used_car['type_van'] = 0\n",
    "used_car['type_wagon'] = 0\n",
    "\n",
    "y_pred_test = model_etr.predict(used_car)\n",
    "print(\"Car's value:\", y_pred_test)"
   ]
  },
  {
   "cell_type": "code",
   "execution_count": null,
   "metadata": {},
   "outputs": [],
   "source": []
  }
 ],
 "metadata": {
  "kernelspec": {
   "display_name": "Python 3.7.3 64-bit ('base': conda)",
   "language": "python",
   "name": "python37364bitbaseconda67c988108eed42f6812452a26d9f9db7"
  },
  "language_info": {
   "codemirror_mode": {
    "name": "ipython",
    "version": 3
   },
   "file_extension": ".py",
   "mimetype": "text/x-python",
   "name": "python",
   "nbconvert_exporter": "python",
   "pygments_lexer": "ipython3",
   "version": "3.7.3"
  }
 },
 "nbformat": 4,
 "nbformat_minor": 2
}
